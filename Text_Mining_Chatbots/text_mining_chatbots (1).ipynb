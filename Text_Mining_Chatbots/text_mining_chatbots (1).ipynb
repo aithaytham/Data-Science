{
  "nbformat": 4,
  "nbformat_minor": 0,
  "metadata": {
    "colab": {
      "name": "tp1_text_mining_chatbots.ipynb",
      "provenance": [],
      "collapsed_sections": []
    },
    "kernelspec": {
      "display_name": "Python 3",
      "language": "python",
      "name": "python3"
    },
    "language_info": {
      "codemirror_mode": {
        "name": "ipython",
        "version": 3
      },
      "file_extension": ".py",
      "mimetype": "text/x-python",
      "name": "python",
      "nbconvert_exporter": "python",
      "pygments_lexer": "ipython3",
      "version": "3.7.6"
    },
    "accelerator": "GPU"
  },
  "cells": [
    {
      "cell_type": "markdown",
      "metadata": {
        "id": "BP249cJ5l25K"
      },
      "source": [
        "# <center> Université Paris Saclay M2 Data Science </center>#\n",
        "# <center> TEXT MINING CHATBOTS </center>#\n",
        "# <center> Named Entity Recognition assignement </center>#\n",
        "\n",
        "### Names : Salma Damak\n",
        "### Names :  Haytham AIT ETTAJER\n",
        "### Names: Panongbene Jean Mohammed SAWADOGO "
      ]
    },
    {
      "cell_type": "code",
      "metadata": {
        "colab": {
          "base_uri": "https://localhost:8080/"
        },
        "id": "_f_AECOUl25T",
        "outputId": "093cc059-e855-4e14-c7f4-68be08646a71"
      },
      "source": [
        "import re\n",
        "import string\n",
        "! pip install fasttext \n",
        "import fasttext\n",
        "import unicodedata \n",
        "from time import time\n",
        "from nltk.corpus import stopwords\n",
        "from gensim.models import FastText\n",
        "from gensim.models import  Word2Vec"
      ],
      "execution_count": null,
      "outputs": [
        {
          "output_type": "stream",
          "text": [
            "Collecting fasttext\n",
            "\u001b[?25l  Downloading https://files.pythonhosted.org/packages/f8/85/e2b368ab6d3528827b147fdb814f8189acc981a4bc2f99ab894650e05c40/fasttext-0.9.2.tar.gz (68kB)\n",
            "\r\u001b[K     |████▊                           | 10kB 13.2MB/s eta 0:00:01\r\u001b[K     |█████████▌                      | 20kB 13.3MB/s eta 0:00:01\r\u001b[K     |██████████████▎                 | 30kB 7.9MB/s eta 0:00:01\r\u001b[K     |███████████████████             | 40kB 7.7MB/s eta 0:00:01\r\u001b[K     |███████████████████████▉        | 51kB 4.4MB/s eta 0:00:01\r\u001b[K     |████████████████████████████▋   | 61kB 4.9MB/s eta 0:00:01\r\u001b[K     |████████████████████████████████| 71kB 3.0MB/s \n",
            "\u001b[?25hRequirement already satisfied: pybind11>=2.2 in /usr/local/lib/python3.6/dist-packages (from fasttext) (2.6.2)\n",
            "Requirement already satisfied: setuptools>=0.7.0 in /usr/local/lib/python3.6/dist-packages (from fasttext) (53.0.0)\n",
            "Requirement already satisfied: numpy in /usr/local/lib/python3.6/dist-packages (from fasttext) (1.19.5)\n",
            "Building wheels for collected packages: fasttext\n",
            "  Building wheel for fasttext (setup.py) ... \u001b[?25l\u001b[?25hdone\n",
            "  Created wheel for fasttext: filename=fasttext-0.9.2-cp36-cp36m-linux_x86_64.whl size=3093878 sha256=7e8949d11da290e091ecb75695dde2c21a3a79150c90dc194cf77639d62d8833\n",
            "  Stored in directory: /root/.cache/pip/wheels/98/ba/7f/b154944a1cf5a8cee91c154b75231136cc3a3321ab0e30f592\n",
            "Successfully built fasttext\n",
            "Installing collected packages: fasttext\n",
            "Successfully installed fasttext-0.9.2\n"
          ],
          "name": "stdout"
        }
      ]
    },
    {
      "cell_type": "code",
      "metadata": {
        "colab": {
          "base_uri": "https://localhost:8080/"
        },
        "id": "pXUNKSpRl25X",
        "outputId": "53a1e554-3651-4921-80ae-dc14e57749d0"
      },
      "source": [
        "# French Stop Word\n",
        "import nltk\n",
        "nltk.download('stopwords')\n",
        "stop_words = stopwords.words('french')"
      ],
      "execution_count": null,
      "outputs": [
        {
          "output_type": "stream",
          "text": [
            "[nltk_data] Downloading package stopwords to /root/nltk_data...\n",
            "[nltk_data]   Unzipping corpora/stopwords.zip.\n"
          ],
          "name": "stdout"
        }
      ]
    },
    {
      "cell_type": "code",
      "metadata": {
        "id": "PbjnJ3g1NqzL"
      },
      "source": [
        "from google.colab import drive\n",
        "drive.mount('/content/drive')\n"
      ],
      "execution_count": null,
      "outputs": []
    },
    {
      "cell_type": "code",
      "metadata": {
        "id": "e-8y9f3_qFZo",
        "colab": {
          "base_uri": "https://localhost:8080/"
        },
        "outputId": "eb0273de-f1af-4ff0-a2d6-08ac45e5b3ee"
      },
      "source": [
        "# Extract file directly in my drive\n",
        "#driveAcces = '! 4/1AY0e-g5d6M3fRQ8bWMf_2L5f47GkimSXpf5o1pgZaDvBg_0tcenbPNYr6Q0'\n",
        "#https://accounts.google.com/o/oauth2/auth?client_id=947318989803-6bn6qk8qdgf4n4g3pfee6491hc0brc4i.apps.googleusercontent.com&redirect_uri=urn%3Aietf%3Awg%3Aoauth%3A2.0%3Aoob&scope=email%20https%3A%2F%2Fwww.googleapis.com%2Fauth%2Fdocs.test%20https%3A%2F%2Fwww.googleapis.com%2Fauth%2Fdrive%20https%3A%2F%2Fwww.googleapis.com%2Fauth%2Fdrive.photos.readonly%20https%3A%2F%2Fwww.googleapis.com%2Fauth%2Fpeopleapi.readonly&response_type=code\n",
        "#from google.colab import drive\n",
        "#drive.mount(\"/content/drive/\", force_remount=True)\n",
        "\n",
        "#!ls drive/MyDrive/'Colab Notebooks'/data"
      ],
      "execution_count": null,
      "outputs": [
        {
          "output_type": "stream",
          "text": [
            "/bin/bash: Extract: command not found\n",
            "/bin/bash: driveAcces: command not found\n",
            "from: can't read /var/mail/google.colab\n",
            "/bin/bash: -c: line 0: syntax error near unexpected token `\"/content/drive/\",'\n",
            "/bin/bash: -c: line 0: `drive.mount(\"/content/drive/\", force_remount=True)'\n",
            "ls: cannot access 'drive/MyDrive/Colab Notebooks': No such file or directory\n"
          ],
          "name": "stdout"
        }
      ]
    },
    {
      "cell_type": "code",
      "metadata": {
        "id": "vz-jH8T_Uk2c"
      },
      "source": [
        "# file upload data\n",
        "with open('drive/MyDrive/ColabNotebooks/Data/QUAERO_FrenchPress_traindev.ospl', 'r') as f: \n",
        "        QUAERO_FrenchPress = f.readlines()\n",
        "        \n",
        "# file upload data\n",
        "with open('drive/MyDrive/ColabNotebooks/Data/QUAERO_FrenchMed_traindev.ospl', 'r') as f: \n",
        "        QUAERO_FrenchMed = f.readlines()\n"
      ],
      "execution_count": null,
      "outputs": []
    },
    {
      "cell_type": "code",
      "metadata": {
        "id": "m75RbQtnl25b"
      },
      "source": [
        "# clean word\n",
        "def clean_word(data):\n",
        "    \"\"\"This function remove all word and caracteres that we dont need\"\"\"\n",
        "    return ''.join(x for x in unicodedata.normalize('NFKD', data) if x in string.ascii_letters).lower() "
      ],
      "execution_count": null,
      "outputs": []
    },
    {
      "cell_type": "code",
      "metadata": {
        "id": "YQ9qXrl6l25c"
      },
      "source": [
        "def build_token_word(document):\n",
        "    \"\"\"This function take a document and build a list of words\"\"\"\n",
        "    list_values = list()\n",
        "    for lines in document:\n",
        "    #words=lines.split(' ')\n",
        "        sent = re.sub(\"[^A-Za-z]+\", ' ', str(lines))\n",
        "        words_value=sent.split()\n",
        "        list_values.append(words_value)\n",
        "        \n",
        "    return list_values"
      ],
      "execution_count": null,
      "outputs": []
    },
    {
      "cell_type": "code",
      "metadata": {
        "id": "69jZHb0Tl25d"
      },
      "source": [
        "# build model vocabulary\n",
        "#### Building CBOW wordvectors\n",
        "def training_cbow(document):\n",
        "    \"\"\"Training the cbow model\"\"\"\n",
        "    t = time()\n",
        "    # initialize\n",
        "    cbow_model = Word2Vec(min_count=1,window=2,size=100, sg = 0)\n",
        "    # build model vocabulary\n",
        "\n",
        "    tokens_list=document\n",
        "  \n",
        "    cbow_model.build_vocab(tokens_list)\n",
        "    # train the model\n",
        "    cbow_model.train(tokens_list, total_examples=cbow_model.corpus_count, epochs=30, report_delay=1)\n",
        "\n",
        "    print('Time to build CBOW model vocab: {} mins'.format(round((time() - t) / 60, 2)))\n",
        "    return cbow_model"
      ],
      "execution_count": null,
      "outputs": []
    },
    {
      "cell_type": "code",
      "metadata": {
        "id": "B40FR8ZJl25e"
      },
      "source": [
        "def training_sg(document):\n",
        "    \"\"\"Train the skip gram model\"\"\"\n",
        "    t = time()\n",
        "    # initialize skipgram model\n",
        "    sg_model = Word2Vec(min_count=1,window=2,size=100, sg = 1,sample=5e-5, alpha=0.05, min_alpha=0.0005 )\n",
        "    # build model vocabulary\n",
        "    sg_model.build_vocab(document)\n",
        "\n",
        "    # train the model\n",
        "    sg_model.train(document, total_examples=sg_model.corpus_count, epochs=30, report_delay=1)\n",
        "\n",
        "    print('Time to build Skip gram model vocab: {} mins'.format(round((time() - t) / 60, 2)))\n",
        "    return sg_model\n",
        "  "
      ],
      "execution_count": null,
      "outputs": []
    },
    {
      "cell_type": "code",
      "metadata": {
        "id": "tsYlkmLcl25f"
      },
      "source": [
        "def stop_word(document):\n",
        "    \"\"\"This function take a list of list of word and delete stop word\"\"\"\n",
        "    \n",
        "    for i in range(len(document)):\n",
        "        for j in document[i]:\n",
        "            if (j in stop_words) or (len(j)<=2):\n",
        "                document[i].remove(j)\n",
        "    \n",
        "    return document"
      ],
      "execution_count": null,
      "outputs": []
    },
    {
      "cell_type": "code",
      "metadata": {
        "id": "weh-DfKel25g"
      },
      "source": [
        "# build tocken\n",
        "QUAERO_FrenchPress_tocken = stop_word(build_token_word(QUAERO_FrenchPress))\n",
        "QUAERO_FrenchMed_tocken = stop_word(build_token_word(QUAERO_FrenchMed))"
      ],
      "execution_count": null,
      "outputs": []
    },
    {
      "cell_type": "code",
      "metadata": {
        "colab": {
          "base_uri": "https://localhost:8080/"
        },
        "id": "hXX0nFeRl25i",
        "outputId": "1f83a4c4-870a-41c7-c611-76582073764f"
      },
      "source": [
        "# Word 2 Vec model\n",
        "model = Word2Vec(min_count=1,size=100)\n",
        "model = Word2Vec(min_count=1)\n",
        "model.build_vocab(QUAERO_FrenchPress_tocken) # prepare the model vocabulary\n",
        "model.train(QUAERO_FrenchPress_tocken, total_examples=model.corpus_count, epochs=3)#report_delay=1) "
      ],
      "execution_count": null,
      "outputs": [
        {
          "output_type": "execute_result",
          "data": {
            "text/plain": [
              "(2095580, 2320746)"
            ]
          },
          "metadata": {
            "tags": []
          },
          "execution_count": 12
        }
      ]
    },
    {
      "cell_type": "code",
      "metadata": {
        "colab": {
          "base_uri": "https://localhost:8080/"
        },
        "id": "xN6dLC-5l25k",
        "outputId": "a6c175b4-c373-4ce3-b884-480300454642"
      },
      "source": [
        "model.wv.most_similar([\"bonjour\"])"
      ],
      "execution_count": null,
      "outputs": [
        {
          "output_type": "execute_result",
          "data": {
            "text/plain": [
              "[('bienvenu', 0.957136869430542),\n",
              " ('Winckler', 0.9519490003585815),\n",
              " ('messieurs', 0.9517946243286133),\n",
              " ('bienvenue', 0.9492441415786743),\n",
              " ('mesdames', 0.9420086145401001),\n",
              " ('Baudelot', 0.9373589158058167),\n",
              " ('Rocard', 0.9367847442626953),\n",
              " ('tentatrices', 0.9332044124603271),\n",
              " ('Rincquesen', 0.930302083492279),\n",
              " ('Lecaplain', 0.9293521642684937)]"
            ]
          },
          "metadata": {
            "tags": []
          },
          "execution_count": 13
        }
      ]
    },
    {
      "cell_type": "code",
      "metadata": {
        "colab": {
          "base_uri": "https://localhost:8080/"
        },
        "id": "afzuXgxLl25l",
        "outputId": "34691290-3d88-494c-8ad2-6b63c862226a"
      },
      "source": [
        "# Cbow model\n",
        "cbow_QUAERO_FrenchPress_tocken = training_cbow(QUAERO_FrenchPress_tocken)\n",
        "cbow_QUAERO_FrenchMed_tocken = training_cbow(QUAERO_FrenchMed_tocken)"
      ],
      "execution_count": null,
      "outputs": [
        {
          "output_type": "stream",
          "text": [
            "Time to build CBOW model vocab: 0.78 mins\n",
            "Time to build CBOW model vocab: 0.05 mins\n"
          ],
          "name": "stdout"
        }
      ]
    },
    {
      "cell_type": "code",
      "metadata": {
        "colab": {
          "base_uri": "https://localhost:8080/"
        },
        "id": "Wfki5MaMl25n",
        "outputId": "06d23a59-3017-4bd1-80c7-19c06adc254d"
      },
      "source": [
        "#  skipgram model\n",
        "sg_QUAERO_FrenchPress_tocken = training_sg(QUAERO_FrenchPress_tocken)\n",
        "sg_QUAERO_FrenchMed_tocken = training_sg(QUAERO_FrenchMed_tocken)"
      ],
      "execution_count": null,
      "outputs": [
        {
          "output_type": "stream",
          "text": [
            "Time to build Skip gram model vocab: 1.06 mins\n",
            "Time to build Skip gram model vocab: 0.08 mins\n"
          ],
          "name": "stdout"
        }
      ]
    },
    {
      "cell_type": "code",
      "metadata": {
        "colab": {
          "base_uri": "https://localhost:8080/"
        },
        "id": "kqqL_YE8l25o",
        "outputId": "18d322b2-ee41-4ff8-b8fc-3f2eb2f2c36f"
      },
      "source": [
        "# test skip gram model\n",
        "sg_QUAERO_FrenchPress_tocken.wv.most_similar([\"traitement\"])"
      ],
      "execution_count": null,
      "outputs": [
        {
          "output_type": "execute_result",
          "data": {
            "text/plain": [
              "[('geait', 0.6342461109161377),\n",
              " ('dicamenteux', 0.6309572458267212),\n",
              " ('antidouleur', 0.6250557899475098),\n",
              " ('Asilah', 0.5593647956848145),\n",
              " ('suivait', 0.5587955117225647),\n",
              " ('paludisme', 0.5259395837783813),\n",
              " ('admirait', 0.5251320600509644),\n",
              " ('sahraoui', 0.5154713988304138),\n",
              " ('psychiatrique', 0.5103509426116943),\n",
              " ('galitaire', 0.5088360905647278)]"
            ]
          },
          "metadata": {
            "tags": []
          },
          "execution_count": 114
        }
      ]
    },
    {
      "cell_type": "code",
      "metadata": {
        "colab": {
          "base_uri": "https://localhost:8080/"
        },
        "id": "tV-OOKgxl25q",
        "outputId": "a57ad813-9b23-4dea-8220-37da4050d909"
      },
      "source": [
        "sg_QUAERO_FrenchMed_tocken.wv.most_similar([\"traitement\"])"
      ],
      "execution_count": null,
      "outputs": [
        {
          "output_type": "execute_result",
          "data": {
            "text/plain": [
              "[('arr', 0.9944697618484497),\n",
              " ('Tasmar', 0.9941691160202026),\n",
              " ('TYSABRI', 0.9937978982925415),\n",
              " ('utilis', 0.9923129081726074),\n",
              " ('est', 0.9921622276306152),\n",
              " ('inform', 0.9919185638427734),\n",
              " ('par', 0.9918251037597656),\n",
              " ('pendant', 0.9917889833450317),\n",
              " ('instaur', 0.9917441010475159),\n",
              " ('une', 0.9915977120399475)]"
            ]
          },
          "metadata": {
            "tags": []
          },
          "execution_count": 115
        }
      ]
    },
    {
      "cell_type": "code",
      "metadata": {
        "colab": {
          "base_uri": "https://localhost:8080/"
        },
        "id": "-y0M2oWyl25q",
        "outputId": "a81ecfe6-c5f0-439c-eaaa-857e09fc3eda"
      },
      "source": [
        "sg_QUAERO_FrenchPress_tocken.wv.most_similar([\"patient\"])"
      ],
      "execution_count": null,
      "outputs": [
        {
          "output_type": "execute_result",
          "data": {
            "text/plain": [
              "[('infantilis', 0.7661058902740479),\n",
              " ('neurologique', 0.6504168510437012),\n",
              " ('virale', 0.6334140300750732),\n",
              " ('humble', 0.6283608078956604),\n",
              " ('ventif', 0.6152496337890625),\n",
              " ('Tourcoing', 0.6135792136192322),\n",
              " ('contagieux', 0.6117741465568542),\n",
              " ('signaient', 0.6034929752349854),\n",
              " ('illogique', 0.6027514934539795),\n",
              " ('transmissible', 0.6003401875495911)]"
            ]
          },
          "metadata": {
            "tags": []
          },
          "execution_count": 116
        }
      ]
    },
    {
      "cell_type": "code",
      "metadata": {
        "colab": {
          "base_uri": "https://localhost:8080/"
        },
        "id": "fcLnigiDl25r",
        "outputId": "d1454beb-9338-4c3b-e797-429513786a12"
      },
      "source": [
        "sg_QUAERO_FrenchMed_tocken.wv.most_similar([\"patient\"])"
      ],
      "execution_count": null,
      "outputs": [
        {
          "output_type": "execute_result",
          "data": {
            "text/plain": [
              "[('peuvent', 0.9967723488807678),\n",
              " ('lors', 0.9966742396354675),\n",
              " ('s', 0.9965825080871582),\n",
              " ('ces', 0.9965600371360779),\n",
              " ('survenir', 0.9964410066604614),\n",
              " ('tout', 0.9963569045066833),\n",
              " ('galement', 0.9962690472602844),\n",
              " ('cette', 0.9962559938430786),\n",
              " ('e', 0.9961977601051331),\n",
              " ('sympt', 0.9960789680480957)]"
            ]
          },
          "metadata": {
            "tags": []
          },
          "execution_count": 117
        }
      ]
    },
    {
      "cell_type": "code",
      "metadata": {
        "colab": {
          "base_uri": "https://localhost:8080/"
        },
        "id": "cdyPPUkIl25s",
        "outputId": "04db57d5-70b7-4f5d-a84e-b75d62ffb9b3"
      },
      "source": [
        "sg_QUAERO_FrenchPress_tocken.wv.most_similar([\"jaune\"])"
      ],
      "execution_count": null,
      "outputs": [
        {
          "output_type": "execute_result",
          "data": {
            "text/plain": [
              "[('grenadine', 0.7031934261322021),\n",
              " ('caleront', 0.6713384389877319),\n",
              " ('maillot', 0.6655776500701904),\n",
              " ('Pena', 0.6150904893875122),\n",
              " ('Rock', 0.5896638631820679),\n",
              " ('USMA', 0.588503897190094),\n",
              " ('endossant', 0.5833740234375),\n",
              " ('franchie', 0.5803539752960205),\n",
              " ('Trissotin', 0.5779874324798584),\n",
              " ('Avenue', 0.5762203335762024)]"
            ]
          },
          "metadata": {
            "tags": []
          },
          "execution_count": 118
        }
      ]
    },
    {
      "cell_type": "code",
      "metadata": {
        "colab": {
          "base_uri": "https://localhost:8080/"
        },
        "id": "_yQx1DZUl25s",
        "outputId": "5cb23246-acfc-43c1-afa8-5ee890df97da"
      },
      "source": [
        "sg_QUAERO_FrenchMed_tocken.wv.most_similar([\"jaune\"])"
      ],
      "execution_count": null,
      "outputs": [
        {
          "output_type": "execute_result",
          "data": {
            "text/plain": [
              "[('orange', 0.9974260330200195),\n",
              " ('Oxyde', 0.9972546100616455),\n",
              " ('anormale', 0.997245728969574),\n",
              " ('Ethylcellulose', 0.9971926808357239),\n",
              " ('thylcellulose', 0.9971528053283691),\n",
              " ('talc', 0.9970520734786987),\n",
              " ('oxyde', 0.9970391392707825),\n",
              " ('yeux', 0.9970212578773499),\n",
              " ('urines', 0.9969363808631897),\n",
              " ('hexagonaux', 0.9968926906585693)]"
            ]
          },
          "metadata": {
            "tags": []
          },
          "execution_count": 119
        }
      ]
    },
    {
      "cell_type": "code",
      "metadata": {
        "id": "K-RQ96HJl25u"
      },
      "source": [
        "dimension =100\n",
        "fasttext_QUAERO_FrenchMed_tocken = FastText(QUAERO_FrenchMed_tocken, size=dimension, window=2, min_count=1, workers=4, sg=0)\n",
        "fasttext_QUAERO_FrenchPress_tocken = FastText(QUAERO_FrenchPress_tocken, size=dimension, window=2, min_count=1, workers=4, sg=0)"
      ],
      "execution_count": null,
      "outputs": []
    },
    {
      "cell_type": "code",
      "metadata": {
        "colab": {
          "base_uri": "https://localhost:8080/"
        },
        "id": "djtH7_1El25u",
        "outputId": "23688cef-ffc1-46d3-ccff-90a99eb154f3"
      },
      "source": [
        "fasttext_QUAERO_FrenchMed_tocken.wv.most_similar([\"traitement\"])"
      ],
      "execution_count": null,
      "outputs": [
        {
          "output_type": "execute_result",
          "data": {
            "text/plain": [
              "[('traitements', 0.9999978542327881),\n",
              " ('Traitement', 0.9999977350234985),\n",
              " ('Taaitement', 0.9999971389770508),\n",
              " ('allaitement', 0.999996542930603),\n",
              " ('Allaitement', 0.9999961256980896),\n",
              " ('vitement', 0.9999955892562866),\n",
              " ('Traitements', 0.9999954104423523),\n",
              " ('troitement', 0.999995231628418),\n",
              " ('lentement', 0.9999949932098389),\n",
              " ('partement', 0.9999944567680359)]"
            ]
          },
          "metadata": {
            "tags": []
          },
          "execution_count": 121
        }
      ]
    },
    {
      "cell_type": "code",
      "metadata": {
        "colab": {
          "base_uri": "https://localhost:8080/"
        },
        "id": "EpCZDewMl25u",
        "outputId": "0db0d010-3738-4e1f-d78e-bda5788bacbf"
      },
      "source": [
        "fasttext_QUAERO_FrenchPress_tocken.wv.most_similar([\"traitement\"])"
      ],
      "execution_count": null,
      "outputs": [
        {
          "output_type": "execute_result",
          "data": {
            "text/plain": [
              "[('vachement', 0.9852569103240967),\n",
              " ('chement', 0.984168291091919),\n",
              " ('troitement', 0.982939600944519),\n",
              " ('sauvagement', 0.9826259016990662),\n",
              " ('chauffement', 0.9823418259620667),\n",
              " ('chichement', 0.9819760322570801),\n",
              " ('farouchement', 0.9816651344299316),\n",
              " ('sagement', 0.9814537763595581),\n",
              " ('changement', 0.9812566041946411),\n",
              " ('doucement', 0.9809319376945496)]"
            ]
          },
          "metadata": {
            "tags": []
          },
          "execution_count": 122
        }
      ]
    },
    {
      "cell_type": "code",
      "metadata": {
        "colab": {
          "base_uri": "https://localhost:8080/"
        },
        "id": "GvIm17W5l25v",
        "outputId": "4f81a2c3-2b72-4f71-fcad-0f452dd0bd35"
      },
      "source": [
        "fasttext_QUAERO_FrenchMed_tocken.wv.most_similar([\"jaune\"])"
      ],
      "execution_count": null,
      "outputs": [
        {
          "output_type": "execute_result",
          "data": {
            "text/plain": [
              "[('antithrombotiques', 0.999937891960144),\n",
              " ('sanctions', 0.999936580657959),\n",
              " ('consommation', 0.9999365210533142),\n",
              " ('instrumentale', 0.9999363422393799),\n",
              " ('mentionn', 0.9999362230300903),\n",
              " ('antithrombotique', 0.9999353885650635),\n",
              " ('bronchographiques', 0.9999344944953918),\n",
              " ('Malformation', 0.9999344348907471),\n",
              " ('concentration', 0.9999344348907471),\n",
              " ('niques', 0.9999344348907471)]"
            ]
          },
          "metadata": {
            "tags": []
          },
          "execution_count": 123
        }
      ]
    },
    {
      "cell_type": "code",
      "metadata": {
        "colab": {
          "base_uri": "https://localhost:8080/"
        },
        "id": "oD00awZHl25v",
        "outputId": "6aada321-8f70-4d8b-8154-d9872cac7ba7"
      },
      "source": [
        "fasttext_QUAERO_FrenchPress_tocken.wv.most_similar([\"jaune\"])"
      ],
      "execution_count": null,
      "outputs": [
        {
          "output_type": "execute_result",
          "data": {
            "text/plain": [
              "[('Neptune', 0.990755558013916),\n",
              " ('lune', 0.9892677664756775),\n",
              " ('brune', 0.9860022664070129),\n",
              " ('Jeune', 0.9837058782577515),\n",
              " ('dune', 0.9827749133110046),\n",
              " ('youne', 0.982375979423523),\n",
              " ('lagune', 0.9764001369476318),\n",
              " ('aune', 0.971815824508667),\n",
              " ('doune', 0.9616575241088867),\n",
              " ('Tribune', 0.9520894289016724)]"
            ]
          },
          "metadata": {
            "tags": []
          },
          "execution_count": 124
        }
      ]
    },
    {
      "cell_type": "code",
      "metadata": {
        "colab": {
          "base_uri": "https://localhost:8080/"
        },
        "id": "vSbajg_Ll25v",
        "outputId": "1ba2c3d7-1f68-4761-ad2d-5e4011532d55"
      },
      "source": [
        "fasttext_QUAERO_FrenchMed_tocken.wv.most_similar([\"Picasso\"])"
      ],
      "execution_count": null,
      "outputs": [
        {
          "output_type": "execute_result",
          "data": {
            "text/plain": [
              "[('iso', 0.9651605486869812),\n",
              " ('guid', 0.9626452922821045),\n",
              " ('ANASTOMOSES', 0.9624209403991699),\n",
              " ('Typho', 0.9619781970977783),\n",
              " ('isol', 0.9619286060333252),\n",
              " ('Emil', 0.9616976976394653),\n",
              " ('THYROUIDE', 0.9615924954414368),\n",
              " ('isolee', 0.9615694284439087),\n",
              " ('Cas', 0.9614438414573669),\n",
              " ('Bignami', 0.9613182544708252)]"
            ]
          },
          "metadata": {
            "tags": []
          },
          "execution_count": 125
        }
      ]
    },
    {
      "cell_type": "code",
      "metadata": {
        "colab": {
          "base_uri": "https://localhost:8080/"
        },
        "id": "qHbP-mONl25w",
        "outputId": "fe98fdd5-497c-4f2e-8f7d-ca553df5c32e"
      },
      "source": [
        "fasttext_QUAERO_FrenchPress_tocken.wv.most_similar([\"Picasso\"])"
      ],
      "execution_count": null,
      "outputs": [
        {
          "output_type": "execute_result",
          "data": {
            "text/plain": [
              "[('Ricardo', 0.9692336320877075),\n",
              " ('Bangladesh', 0.964695394039154),\n",
              " ('Stangl', 0.9602813720703125),\n",
              " ('Dassault', 0.9576665163040161),\n",
              " ('Golinsky', 0.9569246768951416),\n",
              " ('Fasso', 0.9564516544342041),\n",
              " ('Bricorama', 0.9562460780143738),\n",
              " ('Mitrovica', 0.9561678767204285),\n",
              " ('Ouganda', 0.9555414915084839),\n",
              " ('Rosinski', 0.9552026987075806)]"
            ]
          },
          "metadata": {
            "tags": []
          },
          "execution_count": 126
        }
      ]
    },
    {
      "cell_type": "markdown",
      "metadata": {
        "id": "6AwmUZJcnXva"
      },
      "source": [
        "# Named entity recognition\n",
        "\n"
      ]
    },
    {
      "cell_type": "code",
      "metadata": {
        "colab": {
          "base_uri": "https://localhost:8080/"
        },
        "id": "-We5Mw-GyNsr",
        "outputId": "1f68e46e-e393-47ef-fdb5-464b76de7319"
      },
      "source": [
        "from google.colab import drive\n",
        "drive.mount('/content/drive')"
      ],
      "execution_count": null,
      "outputs": [
        {
          "output_type": "stream",
          "text": [
            "Drive already mounted at /content/drive; to attempt to forcibly remount, call drive.mount(\"/content/drive\", force_remount=True).\n"
          ],
          "name": "stdout"
        }
      ]
    },
    {
      "cell_type": "code",
      "metadata": {
        "colab": {
          "base_uri": "https://localhost:8080/"
        },
        "id": "LkcX9G9AlvVw",
        "outputId": "035c71f6-a42a-44b8-9bd8-1b3829e11f95"
      },
      "source": [
        "!git clone https://github.com/XuezheMax/NeuroNLP2.git\r\n",
        "!pip install torch==1.6.0+cpu torchvision==0.7.0+cpu -f https://download.pytorch.org/whl/torch_stable.html\r\n",
        "!pip install overrides\r\n",
        "!pip uninstall scipy\r\n",
        "!pip --no-cache-dir install scipy==1.1\r\n",
        "!cd NeuroNLP2\r\n",
        "#!pip install ."
      ],
      "execution_count": null,
      "outputs": [
        {
          "output_type": "stream",
          "text": [
            "fatal: destination path 'NeuroNLP2' already exists and is not an empty directory.\n",
            "Looking in links: https://download.pytorch.org/whl/torch_stable.html\n",
            "Requirement already satisfied: torch==1.6.0+cpu in /usr/local/lib/python3.6/dist-packages (1.6.0+cpu)\n",
            "Requirement already satisfied: torchvision==0.7.0+cpu in /usr/local/lib/python3.6/dist-packages (0.7.0+cpu)\n",
            "Requirement already satisfied: numpy in /usr/local/lib/python3.6/dist-packages (from torch==1.6.0+cpu) (1.19.5)\n",
            "Requirement already satisfied: future in /usr/local/lib/python3.6/dist-packages (from torch==1.6.0+cpu) (0.16.0)\n",
            "Requirement already satisfied: pillow>=4.1.1 in /usr/local/lib/python3.6/dist-packages (from torchvision==0.7.0+cpu) (7.0.0)\n",
            "Requirement already satisfied: overrides in /usr/local/lib/python3.6/dist-packages (3.1.0)\n",
            "Uninstalling scipy-1.1.0:\n",
            "  Would remove:\n",
            "    /usr/local/lib/python3.6/dist-packages/scipy-1.1.0.dist-info/*\n",
            "    /usr/local/lib/python3.6/dist-packages/scipy/*\n",
            "Proceed (y/n)? \u001b[31mERROR: Operation cancelled by user\u001b[0m\n",
            "Traceback (most recent call last):\n",
            "  File \"/usr/local/lib/python3.6/dist-packages/pip/_internal/cli/base_command.py\", line 153, in _main\n",
            "    status = self.run(options, args)\n",
            "  File \"/usr/local/lib/python3.6/dist-packages/pip/_internal/commands/uninstall.py\", line 79, in run\n",
            "    auto_confirm=options.yes, verbose=self.verbosity > 0,\n",
            "  File \"/usr/local/lib/python3.6/dist-packages/pip/_internal/req/req_install.py\", line 755, in uninstall\n",
            "    uninstalled_pathset.remove(auto_confirm, verbose)\n",
            "  File \"/usr/local/lib/python3.6/dist-packages/pip/_internal/req/req_uninstall.py\", line 388, in remove\n",
            "    if auto_confirm or self._allowed_to_proceed(verbose):\n",
            "  File \"/usr/local/lib/python3.6/dist-packages/pip/_internal/req/req_uninstall.py\", line 431, in _allowed_to_proceed\n",
            "    return ask('Proceed (y/n)? ', ('y', 'n')) == 'y'\n",
            "  File \"/usr/local/lib/python3.6/dist-packages/pip/_internal/utils/misc.py\", line 245, in ask\n",
            "    response = input(message)\n",
            "KeyboardInterrupt\n",
            "\n",
            "During handling of the above exception, another exception occurred:\n",
            "\n",
            "Traceback (most recent call last):\n",
            "  File \"/usr/local/bin/pip3\", line 8, in <module>\n",
            "    sys.exit(main())\n",
            "  File \"/usr/local/lib/python3.6/dist-packages/pip/_internal/main.py\", line 47, in main\n",
            "    return command.main(cmd_args)\n",
            "  File \"/usr/local/lib/python3.6/dist-packages/pip/_internal/cli/base_command.py\", line 103, in main\n",
            "    return self._main(args)\n",
            "  File \"/usr/local/lib/python3.6/dist-packages/pip/_internal/cli/base_command.py\", line 183, in _main\n",
            "    logger.debug('Exception information:', exc_info=True)\n",
            "  File \"/usr/lib/python3.6/logging/__init__.py\", line 1296, in debug\n",
            "    self._log(DEBUG, msg, args, **kwargs)\n",
            "  File \"/usr/lib/python3.6/logging/__init__.py\", line 1444, in _log\n",
            "    self.handle(record)\n",
            "  File \"/usr/lib/python3.6/logging/__init__.py\", line 1454, in handle\n",
            "    self.callHandlers(record)\n",
            "  File \"/usr/lib/python3.6/logging/__init__.py\", line 1516, in callHandlers\n",
            "    hdlr.handle(record)\n",
            "  File \"/usr/lib/python3.6/logging/__init__.py\", line 865, in handle\n",
            "    self.emit(record)\n",
            "  File \"/usr/lib/python3.6/logging/handlers.py\", line 73, in emit\n",
            "    logging.FileHandler.emit(self, record)\n",
            "  File \"/usr/lib/python3.6/logging/__init__.py\", line 1072, in emit\n",
            "    StreamHandler.emit(self, record)\n",
            "  File \"/usr/lib/python3.6/logging/__init__.py\", line 994, in emit\n",
            "    msg = self.format(record)\n",
            "  File \"/usr/lib/python3.6/logging/__init__.py\", line 840, in format\n",
            "    return fmt.format(record)\n",
            "  File \"/usr/local/lib/python3.6/dist-packages/pip/_internal/utils/logging.py\", line 151, in format\n",
            "    formatted = super(IndentingFormatter, self).format(record)\n",
            "  File \"/usr/lib/python3.6/logging/__init__.py\", line 585, in format\n",
            "    record.exc_text = self.formatException(record.exc_info)\n",
            "  File \"/usr/lib/python3.6/logging/__init__.py\", line 535, in formatException\n",
            "    traceback.print_exception(ei[0], ei[1], tb, None, sio)\n",
            "  File \"/usr/lib/python3.6/traceback.py\", line 104, in print_exception\n",
            "    type(value), value, tb, limit=limit).format(chain=chain):\n",
            "  File \"/usr/lib/python3.6/traceback.py\", line 509, in __init__\n",
            "    capture_locals=capture_locals)\n",
            "  File \"/usr/lib/python3.6/traceback.py\", line 364, in extract\n",
            "    f.line\n",
            "  File \"/usr/lib/python3.6/traceback.py\", line 286, in line\n",
            "    self._line = linecache.getline(self.filename, self.lineno).strip()\n",
            "  File \"/usr/lib/python3.6/linecache.py\", line 16, in getline\n",
            "    lines = getlines(filename, module_globals)\n",
            "  File \"/usr/lib/python3.6/linecache.py\", line 47, in getlines\n",
            "    return updatecache(filename, module_globals)\n",
            "  File \"/usr/lib/python3.6/linecache.py\", line 136, in updatecache\n",
            "    with tokenize.open(fullname) as fp:\n",
            "  File \"/usr/lib/python3.6/tokenize.py\", line 454, in open\n",
            "    encoding, lines = detect_encoding(buffer.readline)\n",
            "  File \"/usr/lib/python3.6/tokenize.py\", line 423, in detect_encoding\n",
            "    first = read_or_stop()\n",
            "  File \"/usr/lib/python3.6/tokenize.py\", line 381, in read_or_stop\n",
            "    return readline()\n",
            "KeyboardInterrupt\n",
            "Requirement already satisfied: scipy==1.1 in /usr/local/lib/python3.6/dist-packages (1.1.0)\n",
            "Requirement already satisfied: numpy>=1.8.2 in /usr/local/lib/python3.6/dist-packages (from scipy==1.1) (1.19.5)\n",
            "\u001b[31mERROR: Operation cancelled by user\u001b[0m\n"
          ],
          "name": "stdout"
        }
      ]
    },
    {
      "cell_type": "code",
      "metadata": {
        "id": "Ln6Bx5UanYxm"
      },
      "source": [
        "#! git clone https://github.com/allenai/spv2.git \n",
        "! cd NeuroNLP2/experiments & mkdir data\n",
        "! mkdir NeuroNLP2/experiments/data\n",
        "! mkdir NeuroNLP2/experiments/data/Press\n",
        "! mkdir NeuroNLP2/experiments/data/Med\n",
        "! mkdir NeuroNLP2/experiments/data/glove \n",
        "! mkdir NeuroNLP2/experiments/data/glove/glove.6B\n",
        "! cp drive/MyDrive/ColabNotebooks/Data/quaero-100-demi.json NeuroNLP2/experiments/data/Press/\n",
        "! cp drive/MyDrive/ColabNotebooks/Data/QUAERO_FrenchPress-w2v.vec.gz NeuroNLP2/experiments/data/Press/\n",
        "! cp drive/MyDrive/ColabNotebooks/Data/glove.6B.100d.gz NeuroNLP2/experiments/data/glove/glove.6B/\n",
        "! cp drive/MyDrive/ColabNotebooks/Data/fra4_ID.train NeuroNLP2/experiments/data/Press/\n",
        "! cp drive/MyDrive/ColabNotebooks/Data/fra4_ID.dev NeuroNLP2/experiments/data/Press/\n",
        "! cp drive/MyDrive/ColabNotebooks/Data/fra4_ID.test NeuroNLP2/experiments/data/Press/\n",
        "! cp drive/MyDrive/ColabNotebooks/Data/QUAERO_FrenchPress_traindev.ospl NeuroNLP2/experiments/data/Press/\n",
        "! cp drive/MyDrive/ColabNotebooks/Data/QUAERO_FrenchMed_traindev.ospl  NeuroNLP2/experiments/data/Med/\n",
        "! cp drive/MyDrive/ColabNotebooks/Data/EMEA/EMEAdev_layer1_ID.conll NeuroNLP2/experiments/data/Med/\n",
        "! cp drive/MyDrive/ColabNotebooks/Data/EMEA/EMEAtest_layer1_ID.conll NeuroNLP2/experiments/data/Med/\n",
        "! cp drive/MyDrive/ColabNotebooks/Data/EMEA/EMEAtrain_layer1_ID.conll NeuroNLP2/experiments/data/Med/\n",
        "! cp drive/MyDrive/ColabNotebooks/Data/MEDLINE/MEDLINEdev_layer1_ID.conll NeuroNLP2/experiments/data/Med/\n",
        "! cp drive/MyDrive/ColabNotebooks/Data/MEDLINE/MEDLINEtest_layer1_ID.conll NeuroNLP2/experiments/data/Med/\n",
        "! cp drive/MyDrive/ColabNotebooks/Data/MEDLINE/MEDLINEtrain_layer1_ID.conll NeuroNLP2/experiments/data/Med/\n",
        "#! rm NeuroNLP2/experiments/scripts/run_ner_conll03.sh\n",
        "#! cp drive/MyDrive/ColabNotebooks/Data/run_ner_conll03.sh NeuroNLP2/experiments/scripts/\n",
        "#! mv NeuroNLP2/experiments/data/glove/glove.6B/glove.6B.100d.txt.gz NeuroNLP2/experiments/data/glove/glove.6B/glove.6B.100d.gz\n"
      ],
      "execution_count": null,
      "outputs": []
    },
    {
      "cell_type": "code",
      "metadata": {
        "id": "50rtXnLvZqBP"
      },
      "source": [
        "##--------------------------------------FICHIER SCRIPT-----------------------------------\r\n",
        "#!/usr/bin/env bash\r\n",
        "CUDA_VISIBLE_DEVICES=0 OMP_NUM_THREADS=4 python NeuroNLP2/experiments/ner.py --config NeuroNLP2/experiments/configs/ner/conll03.json --num_epochs 20 --batch_size 16 \\\r\n",
        " --loss_type sentence --optim sgd --learning_rate 0.01 --lr_decay 0.99999 --grad_clip 0.0 --warmup_steps 100 --weight_decay 0.0 --unk_replace 0.0 \\\r\n",
        " --embedding glove --embedding_dict \"NeuroNLP2/experiments/data/glove/glove.6B/glove.6B.100d.gz\" --model_path \"models/ner/conll03\" \\\r\n",
        " --train \"NeuroNLP2/experiments/data/fra4_ID.train\" --dev \"NeuroNLP2/experiments/data/fra4_ID.dev\" --test \"NeuroNLP2/experiments/data/fra4_ID.test\"\r\n"
      ],
      "execution_count": null,
      "outputs": []
    },
    {
      "cell_type": "code",
      "metadata": {
        "id": "DdZgO0J0T6J1"
      },
      "source": [
        "##--------------------------------------FICHIER SCRIPT BIS-----------------------------------\r\n",
        "#!/usr/bin/env bash\r\n",
        "CUDA_VISIBLE_DEVICES=0 OMP_NUM_THREADS=60 python NeuroNLP2/experiments/ner.py --config NeuroNLP2/experiments/data/Press/quaero-100-demi.json --num_epochs 20 --batch_size 16 \\\r\n",
        " --loss_type sentence --optim sgd --learning_rate 0.01 --lr_decay 0.99999 --grad_clip 0.0 --warmup_steps 10 --weight_decay 0.0 --unk_replace 0.0 \\\r\n",
        " --embedding sskip --embedding_dict \"NeuroNLP2/experiments/data/Press/QUAERO_FrenchPress-w2v.vec.gz\" --model_path \"models/ner/ner-fra4_ID-w2v-conll17-half\" \\\r\n",
        " --train \"NeuroNLP2/experiments/data/Press/fra4_ID.train\" --dev \"NeuroNLP2/experiments/data/Press/fra4_ID.dev\" --test \"NeuroNLP2/experiments/data/Press/fra4_ID.test\""
      ],
      "execution_count": null,
      "outputs": []
    },
    {
      "cell_type": "code",
      "metadata": {
        "id": "j7bUGyG7ljNT"
      },
      "source": [
        "##--------------------------------------FICHIER SCRIPT MEDLINEGLOVE-----------------------------------\r\n",
        "#!/usr/bin/env bash\r\n",
        "CUDA_VISIBLE_DEVICES=0 OMP_NUM_THREADS=60 python NeuroNLP2/experiments/ner.py --config NeuroNLP2/experiments/data/Press/quaero-100-demi.json --num_epochs 20 --batch_size 16 \\\r\n",
        " --loss_type sentence --optim sgd --learning_rate 0.01 --lr_decay 0.99999 --grad_clip 0.0 --warmup_steps 10 --weight_decay 0.0 --unk_replace 0.0 \\\r\n",
        " --embedding sskip --embedding_dict \"NeuroNLP2/experiments/data/glove/glove.6B/glove.6B.100d.gz\" --model_path \"models/ner/ner-fra4_ID-w2v-conll17-half\" \\\r\n",
        " --train \"NeuroNLP2/experiments/data/Med/MEDLINEtrain_layer1_ID.conll\" --dev \"NeuroNLP2/experiments/data/Med/MEDLINEdev_layer1_ID.conll\" --test \"NeuroNLP2/experiments/data/Med/MEDLINEtest_layer1_ID.conll\""
      ],
      "execution_count": null,
      "outputs": []
    },
    {
      "cell_type": "code",
      "metadata": {
        "id": "iwgFzkPmUowM"
      },
      "source": [
        "##--------------------------------------FICHIER SCRIPT MEDLINEGLOVE-----------------------------------\r\n",
        "#!/usr/bin/env bash\r\n",
        "CUDA_VISIBLE_DEVICES=0 OMP_NUM_THREADS=60 python NeuroNLP2/experiments/ner.py --config NeuroNLP2/experiments/data/Press/quaero-100-demi.json --num_epochs 20 --batch_size 16 \\\r\n",
        " --loss_type sentence --optim sgd --learning_rate 0.01 --lr_decay 0.99999 --grad_clip 0.0 --warmup_steps 10 --weight_decay 0.0 --unk_replace 0.0 \\\r\n",
        " --embedding sskip --embedding_dict \"drive/MyDrive/ColabNotebooks/Data/Text Mining/models Press/ner/ner-fra4_ID-w2v-conll17-half/model.pt\" --model_path \"models/ner/ner-fra4_ID-w2v-conll17-half\" \\\r\n",
        " --train \"NeuroNLP2/experiments/data/fra4_ID.train\" --dev \"NeuroNLP2/experiments/data/fra4_ID.dev\" --test \"NeuroNLP2/experiments/data/fra4_ID.test\""
      ],
      "execution_count": null,
      "outputs": []
    },
    {
      "cell_type": "code",
      "metadata": {
        "id": "L6BHB_MCmC7b",
        "colab": {
          "base_uri": "https://localhost:8080/"
        },
        "outputId": "76d824ad-6b42-4171-ea78-4b36561b5fe5"
      },
      "source": [
        "! ./NeuroNLP2/experiments/scripts/run_ner_conll03.sh"
      ],
      "execution_count": null,
      "outputs": [
        {
          "output_type": "stream",
          "text": [
            "Namespace(amsgrad=False, batch_size=16, config='NeuroNLP2/experiments/data/Press/quaero-100-demi.json', cuda=False, dev='NeuroNLP2/experiments/data/fra4_ID.dev', embedding='sskip', embedding_dict='drive/MyDrive/ColabNotebooks/Data/Text Mining/models Press/ner/ner-fra4_ID-w2v-conll17-half/model.pt', grad_clip=0.0, learning_rate=0.01, loss_type='sentence', lr_decay=0.99999, model_path='models/ner/ner-fra4_ID-w2v-conll17-half', num_epochs=20, optim='sgd', test='NeuroNLP2/experiments/data/fra4_ID.test', train='NeuroNLP2/experiments/data/fra4_ID.train', unk_replace=0.0, warmup_steps=10, weight_decay=0.0)\n",
            "loading embedding: sskip from drive/MyDrive/ColabNotebooks/Data/Text Mining/models Press/ner/ner-fra4_ID-w2v-conll17-half/model.pt\n",
            "Traceback (most recent call last):\n",
            "  File \"NeuroNLP2/experiments/ner.py\", line 316, in <module>\n",
            "    main()\n",
            "  File \"NeuroNLP2/experiments/ner.py\", line 121, in main\n",
            "    embedd_dict, embedd_dim = utils.load_embedding_dict(embedding, embedding_path)\n",
            "  File \"/content/NeuroNLP2/neuronlp2/utils.py\", line 70, in load_embedding_dict\n",
            "    file.readline()\n",
            "  File \"/usr/lib/python3.6/gzip.py\", line 289, in read1\n",
            "    return self._buffer.read1(size)\n",
            "  File \"/usr/lib/python3.6/_compression.py\", line 68, in readinto\n",
            "    data = self.read(len(byte_view))\n",
            "  File \"/usr/lib/python3.6/gzip.py\", line 463, in read\n",
            "    if not self._read_gzip_header():\n",
            "  File \"/usr/lib/python3.6/gzip.py\", line 411, in _read_gzip_header\n",
            "    raise OSError('Not a gzipped file (%r)' % magic)\n",
            "OSError: Not a gzipped file (b'PK')\n"
          ],
          "name": "stdout"
        }
      ]
    },
    {
      "cell_type": "code",
      "metadata": {
        "colab": {
          "base_uri": "https://localhost:8080/"
        },
        "id": "1COHqKZy5rUN",
        "outputId": "19310904-21e5-4ba0-a37b-9ec904a2be8e"
      },
      "source": [
        "! ./NeuroNLP2/experiments/scripts/run_neuromst.sh"
      ],
      "execution_count": null,
      "outputs": [
        {
          "output_type": "stream",
          "text": [
            "Namespace(amsgrad=False, batch_size=16, config='NeuroNLP2/experiments/data/Press/quaero-100-demi.json', cuda=False, dev='NeuroNLP2/experiments/data/Med/EMEAdev_layer1_ID.conll', embedding='sskip', embedding_dict='NeuroNLP2/experiments/data/glove/glove.6B/glove.6B.100d.gz', grad_clip=0.0, learning_rate=0.01, loss_type='sentence', lr_decay=0.99999, model_path='models/ner/EMEA-Glove', num_epochs=20, optim='sgd', test='NeuroNLP2/experiments/data/Med/EMEAtest_layer1_ID.conll', train='NeuroNLP2/experiments/data/Med/EMEAtrain_layer1_ID.conll', unk_replace=0.0, warmup_steps=10, weight_decay=0.0)\n",
            "loading embedding: sskip from NeuroNLP2/experiments/data/glove/glove.6B/glove.6B.100d.gz\n",
            "2021-02-11 16:31:08,747 - NER - INFO - Creating Alphabets\n",
            "2021-02-11 16:31:08,747 - Create Alphabets - INFO - Creating Alphabets: models/ner/EMEA-Glove/alphabets\n",
            "2021-02-11 16:31:08,792 - Create Alphabets - INFO - Total Vocabulary Size: 2465\n",
            "2021-02-11 16:31:08,793 - Create Alphabets - INFO - Total Singleton Size:  1239\n",
            "2021-02-11 16:31:08,793 - Create Alphabets - INFO - Total Vocabulary Size (w.o rare words): 1675\n",
            "2021-02-11 16:31:08,881 - Create Alphabets - INFO - Word Alphabet Size (Singleton): 2412 (449)\n",
            "2021-02-11 16:31:08,881 - Create Alphabets - INFO - Character Alphabet Size: 127\n",
            "2021-02-11 16:31:08,881 - Create Alphabets - INFO - POS Alphabet Size: 10615\n",
            "2021-02-11 16:31:08,881 - Create Alphabets - INFO - Chunk Alphabet Size: 10614\n",
            "2021-02-11 16:31:08,881 - Create Alphabets - INFO - NER Alphabet Size: 22\n",
            "2021-02-11 16:31:08,881 - NER - INFO - Word Alphabet Size: 2412\n",
            "2021-02-11 16:31:08,881 - NER - INFO - Character Alphabet Size: 127\n",
            "2021-02-11 16:31:08,881 - NER - INFO - POS Alphabet Size: 10615\n",
            "2021-02-11 16:31:08,881 - NER - INFO - Chunk Alphabet Size: 10614\n",
            "2021-02-11 16:31:08,881 - NER - INFO - NER Alphabet Size: 22\n",
            "2021-02-11 16:31:08,881 - NER - INFO - Reading Data\n",
            "Reading data from NeuroNLP2/experiments/data/Med/EMEAtrain_layer1_ID.conll\n",
            "Total number of data: 706\n",
            "Reading data from NeuroNLP2/experiments/data/Med/EMEAdev_layer1_ID.conll\n",
            "Total number of data: 649\n",
            "Reading data from NeuroNLP2/experiments/data/Med/EMEAtest_layer1_ID.conll\n",
            "Total number of data: 578\n",
            "oov: 583\n",
            "2021-02-11 16:31:09,298 - NER - INFO - constructing network...\n",
            "/usr/local/lib/python3.6/dist-packages/torch/nn/modules/rnn.py:60: UserWarning: dropout option adds dropout after all but last recurrent layer, so non-zero dropout expects num_layers greater than 1, but got dropout=0.5 and num_layers=1\n",
            "  \"num_layers={}\".format(dropout, num_layers))\n",
            "2021-02-11 16:31:09,307 - NER - INFO - Network: LSTM-CNN, num_layer=1, hidden=128, act=elu\n",
            "2021-02-11 16:31:09,307 - NER - INFO - training: l2: 0.000000, (#training data: 706, batch: 16, unk replace: 0.00)\n",
            "2021-02-11 16:31:09,307 - NER - INFO - dropout(in, out, rnn): std(0.33, 0.50, [0.33, 0.5])\n",
            "# of Parameters: 550878\n",
            "Epoch 1 (sgd, lr=0.000000, lr decay=0.999990, amsgrad=False, l2=0.0e+00): \n",
            "[0/45 (0%) lr=0.001000] loss: 104.9897 (3.0936)\b\b\b\b\b\b\b\b\b\b\b\b\b\b\b\b\b\b\b\b\b\b\b\b\b\b\b\b\b\b\b\b\b\b\b\b\b\b\b\b\b\b\b\b\b\b\b                                               \b\b\b\b\b\b\b\b\b\b\b\b\b\b\b\b\b\b\b\b\b\b\b\b\b\b\b\b\b\b\b\b\b\b\b\b\b\b\b\b\b\b\b\b\b\b\btotal: 706 (15339), loss: 32.2496 (1.4843), time: 3.79s\n",
            "----------------------------------------------------------------------------------------------------\n",
            "Dev  acc: 80.03%, precision: 0.00%, recall: 0.00%, F1: 0.00%\n",
            "----------------------------------------------------------------------------------------------------\n",
            "Best dev  acc: 0.00%, precision: 0.00%, recall: 0.00%, F1: 0.00% (epoch: 0 (1))\n",
            "Best test acc: 0.00%, precision: 0.00%, recall: 0.00%, F1: 0.00% (epoch: 0 (1))\n",
            "====================================================================================================\n",
            "Epoch 2 (sgd, lr=0.009996, lr decay=0.999990, amsgrad=False, l2=0.0e+00): \n",
            "[0/45 (0%) lr=0.009996] loss: 48.8374 (1.1243)\b\b\b\b\b\b\b\b\b\b\b\b\b\b\b\b\b\b\b\b\b\b\b\b\b\b\b\b\b\b\b\b\b\b\b\b\b\b\b\b\b\b\b\b\b\b                                              \b\b\b\b\b\b\b\b\b\b\b\b\b\b\b\b\b\b\b\b\b\b\b\b\b\b\b\b\b\b\b\b\b\b\b\b\b\b\b\b\b\b\b\b\b\btotal: 706 (15339), loss: 20.3705 (0.9376), time: 4.27s\n",
            "----------------------------------------------------------------------------------------------------\n",
            "Dev  acc: 79.68%, precision: 25.99%, recall: 31.34%, F1: 28.42%\n",
            "test acc: 78.66%, precision: 23.95%, recall: 26.34%, F1: 25.09%\n",
            "----------------------------------------------------------------------------------------------------\n",
            "Best dev  acc: 79.68%, precision: 25.99%, recall: 31.34%, F1: 28.42% (epoch: 2 (0))\n",
            "Best test acc: 78.66%, precision: 23.95%, recall: 26.34%, F1: 25.09% (epoch: 2 (0))\n",
            "====================================================================================================\n",
            "Epoch 3 (sgd, lr=0.009991, lr decay=0.999990, amsgrad=False, l2=0.0e+00): \n",
            "[0/45 (0%) lr=0.009991] loss: 42.2728 (0.9760)\b\b\b\b\b\b\b\b\b\b\b\b\b\b\b\b\b\b\b\b\b\b\b\b\b\b\b\b\b\b\b\b\b\b\b\b\b\b\b\b\b\b\b\b\b\b                                              \b\b\b\b\b\b\b\b\b\b\b\b\b\b\b\b\b\b\b\b\b\b\b\b\b\b\b\b\b\b\b\b\b\b\b\b\b\b\b\b\b\b\b\b\b\btotal: 706 (15339), loss: 17.4035 (0.8010), time: 3.68s\n",
            "----------------------------------------------------------------------------------------------------\n",
            "Dev  acc: 83.10%, precision: 67.93%, recall: 20.68%, F1: 31.71%\n",
            "test acc: 82.33%, precision: 64.90%, recall: 19.48%, F1: 29.97%\n",
            "----------------------------------------------------------------------------------------------------\n",
            "Best dev  acc: 83.10%, precision: 67.93%, recall: 20.68%, F1: 31.71% (epoch: 3 (0))\n",
            "Best test acc: 82.33%, precision: 64.90%, recall: 19.48%, F1: 29.97% (epoch: 3 (0))\n",
            "====================================================================================================\n",
            "Epoch 4 (sgd, lr=0.009986, lr decay=0.999990, amsgrad=False, l2=0.0e+00): \n",
            "[0/45 (0%) lr=0.009986] loss: 22.5482 (0.6620)\b\b\b\b\b\b\b\b\b\b\b\b\b\b\b\b\b\b\b\b\b\b\b\b\b\b\b\b\b\b\b\b\b\b\b\b\b\b\b\b\b\b\b\b\b\b                                              \b\b\b\b\b\b\b\b\b\b\b\b\b\b\b\b\b\b\b\b\b\b\b\b\b\b\b\b\b\b\b\b\b\b\b\b\b\b\b\b\b\b\b\b\b\btotal: 706 (15339), loss: 15.7863 (0.7266), time: 3.77s\n",
            "----------------------------------------------------------------------------------------------------\n",
            "Dev  acc: 83.92%, precision: 70.71%, recall: 25.09%, F1: 37.04%\n",
            "test acc: 82.93%, precision: 67.81%, recall: 22.78%, F1: 34.10%\n",
            "----------------------------------------------------------------------------------------------------\n",
            "Best dev  acc: 83.92%, precision: 70.71%, recall: 25.09%, F1: 37.04% (epoch: 4 (0))\n",
            "Best test acc: 82.93%, precision: 67.81%, recall: 22.78%, F1: 34.10% (epoch: 4 (0))\n",
            "====================================================================================================\n",
            "Epoch 5 (sgd, lr=0.009981, lr decay=0.999990, amsgrad=False, l2=0.0e+00): \n",
            "[0/45 (0%) lr=0.009981] loss: 58.2355 (0.8916)\b\b\b\b\b\b\b\b\b\b\b\b\b\b\b\b\b\b\b\b\b\b\b\b\b\b\b\b\b\b\b\b\b\b\b\b\b\b\b\b\b\b\b\b\b\b                                              \b\b\b\b\b\b\b\b\b\b\b\b\b\b\b\b\b\b\b\b\b\b\b\b\b\b\b\b\b\b\b\b\b\b\b\b\b\b\b\b\b\b\b\b\b\btotal: 706 (15339), loss: 14.8545 (0.6837), time: 4.38s\n",
            "----------------------------------------------------------------------------------------------------\n",
            "Dev  acc: 84.06%, precision: 62.33%, recall: 24.67%, F1: 35.35%\n",
            "----------------------------------------------------------------------------------------------------\n",
            "Best dev  acc: 83.92%, precision: 70.71%, recall: 25.09%, F1: 37.04% (epoch: 4 (1))\n",
            "Best test acc: 82.93%, precision: 67.81%, recall: 22.78%, F1: 34.10% (epoch: 4 (1))\n",
            "====================================================================================================\n",
            "Epoch 6 (sgd, lr=0.009977, lr decay=0.999990, amsgrad=False, l2=0.0e+00): \n",
            "[0/45 (0%) lr=0.009976] loss: 4.8129 (0.3909)\b\b\b\b\b\b\b\b\b\b\b\b\b\b\b\b\b\b\b\b\b\b\b\b\b\b\b\b\b\b\b\b\b\b\b\b\b\b\b\b\b\b\b\b\b                                             \b\b\b\b\b\b\b\b\b\b\b\b\b\b\b\b\b\b\b\b\b\b\b\b\b\b\b\b\b\b\b\b\b\b\b\b\b\b\b\b\b\b\b\b\btotal: 706 (15339), loss: 13.8114 (0.6357), time: 3.98s\n",
            "----------------------------------------------------------------------------------------------------\n",
            "Dev  acc: 84.25%, precision: 59.49%, recall: 25.51%, F1: 35.71%\n",
            "----------------------------------------------------------------------------------------------------\n",
            "Best dev  acc: 83.92%, precision: 70.71%, recall: 25.09%, F1: 37.04% (epoch: 4 (2))\n",
            "Best test acc: 82.93%, precision: 67.81%, recall: 22.78%, F1: 34.10% (epoch: 4 (2))\n",
            "====================================================================================================\n",
            "Epoch 7 (sgd, lr=0.009972, lr decay=0.999990, amsgrad=False, l2=0.0e+00): \n",
            "[0/45 (0%) lr=0.009972] loss: 23.4546 (0.7107)\b\b\b\b\b\b\b\b\b\b\b\b\b\b\b\b\b\b\b\b\b\b\b\b\b\b\b\b\b\b\b\b\b\b\b\b\b\b\b\b\b\b\b\b\b\b                                              \b\b\b\b\b\b\b\b\b\b\b\b\b\b\b\b\b\b\b\b\b\b\b\b\b\b\b\b\b\b\b\b\b\b\b\b\b\b\b\b\b\b\b\b\b\btotal: 706 (15339), loss: 12.7744 (0.5880), time: 4.06s\n",
            "----------------------------------------------------------------------------------------------------\n",
            "Dev  acc: 84.45%, precision: 45.62%, recall: 29.82%, F1: 36.06%\n",
            "----------------------------------------------------------------------------------------------------\n",
            "Best dev  acc: 83.92%, precision: 70.71%, recall: 25.09%, F1: 37.04% (epoch: 4 (3))\n",
            "Best test acc: 82.93%, precision: 67.81%, recall: 22.78%, F1: 34.10% (epoch: 4 (3))\n",
            "====================================================================================================\n",
            "Epoch 8 (sgd, lr=0.009967, lr decay=0.999990, amsgrad=False, l2=0.0e+00): \n",
            "[0/45 (0%) lr=0.009967] loss: 9.2011 (0.5393)\b\b\b\b\b\b\b\b\b\b\b\b\b\b\b\b\b\b\b\b\b\b\b\b\b\b\b\b\b\b\b\b\b\b\b\b\b\b\b\b\b\b\b\b\b                                             \b\b\b\b\b\b\b\b\b\b\b\b\b\b\b\b\b\b\b\b\b\b\b\b\b\b\b\b\b\b\b\b\b\b\b\b\b\b\b\b\b\b\b\b\btotal: 706 (15339), loss: 12.3678 (0.5692), time: 3.83s\n",
            "----------------------------------------------------------------------------------------------------\n",
            "Dev  acc: 85.63%, precision: 62.13%, recall: 33.33%, F1: 43.39%\n",
            "test acc: 84.11%, precision: 62.04%, recall: 28.70%, F1: 39.25%\n",
            "----------------------------------------------------------------------------------------------------\n",
            "Best dev  acc: 85.63%, precision: 62.13%, recall: 33.33%, F1: 43.39% (epoch: 8 (0))\n",
            "Best test acc: 84.11%, precision: 62.04%, recall: 28.70%, F1: 39.25% (epoch: 8 (0))\n",
            "====================================================================================================\n",
            "Epoch 9 (sgd, lr=0.009962, lr decay=0.999990, amsgrad=False, l2=0.0e+00): \n",
            "[0/45 (0%) lr=0.009962] loss: 12.2883 (0.3575)\b\b\b\b\b\b\b\b\b\b\b\b\b\b\b\b\b\b\b\b\b\b\b\b\b\b\b\b\b\b\b\b\b\b\b\b\b\b\b\b\b\b\b\b\b\b                                              \b\b\b\b\b\b\b\b\b\b\b\b\b\b\b\b\b\b\b\b\b\b\b\b\b\b\b\b\b\b\b\b\b\b\b\b\b\b\b\b\b\b\b\b\b\btotal: 706 (15339), loss: 12.3950 (0.5705), time: 4.14s\n",
            "----------------------------------------------------------------------------------------------------\n",
            "Dev  acc: 84.83%, precision: 61.39%, recall: 29.13%, F1: 39.52%\n",
            "----------------------------------------------------------------------------------------------------\n",
            "Best dev  acc: 85.63%, precision: 62.13%, recall: 33.33%, F1: 43.39% (epoch: 8 (1))\n",
            "Best test acc: 84.11%, precision: 62.04%, recall: 28.70%, F1: 39.25% (epoch: 8 (1))\n",
            "====================================================================================================\n",
            "Epoch 10 (sgd, lr=0.009957, lr decay=0.999990, amsgrad=False, l2=0.0e+00): \n",
            "[0/45 (0%) lr=0.009957] loss: 12.7712 (0.5740)\b\b\b\b\b\b\b\b\b\b\b\b\b\b\b\b\b\b\b\b\b\b\b\b\b\b\b\b\b\b\b\b\b\b\b\b\b\b\b\b\b\b\b\b\b\b                                              \b\b\b\b\b\b\b\b\b\b\b\b\b\b\b\b\b\b\b\b\b\b\b\b\b\b\b\b\b\b\b\b\b\b\b\b\b\b\b\b\b\b\b\b\b\btotal: 706 (15339), loss: 11.6364 (0.5356), time: 4.06s\n",
            "----------------------------------------------------------------------------------------------------\n",
            "Dev  acc: 86.21%, precision: 69.93%, recall: 37.85%, F1: 49.11%\n",
            "test acc: 84.71%, precision: 67.98%, recall: 32.16%, F1: 43.67%\n",
            "----------------------------------------------------------------------------------------------------\n",
            "Best dev  acc: 86.21%, precision: 69.93%, recall: 37.85%, F1: 49.11% (epoch: 10 (0))\n",
            "Best test acc: 84.71%, precision: 67.98%, recall: 32.16%, F1: 43.67% (epoch: 10 (0))\n",
            "====================================================================================================\n",
            "Epoch 11 (sgd, lr=0.009952, lr decay=0.999990, amsgrad=False, l2=0.0e+00): \n",
            "[0/45 (0%) lr=0.009952] loss: 3.4480 (0.4559)\b\b\b\b\b\b\b\b\b\b\b\b\b\b\b\b\b\b\b\b\b\b\b\b\b\b\b\b\b\b\b\b\b\b\b\b\b\b\b\b\b\b\b\b\b                                             \b\b\b\b\b\b\b\b\b\b\b\b\b\b\b\b\b\b\b\b\b\b\b\b\b\b\b\b\b\b\b\b\b\b\b\b\b\b\b\b\b\b\b\b\btotal: 706 (15339), loss: 10.7693 (0.4957), time: 4.04s\n",
            "----------------------------------------------------------------------------------------------------\n",
            "Dev  acc: 84.65%, precision: 44.21%, recall: 31.86%, F1: 37.03%\n",
            "----------------------------------------------------------------------------------------------------\n",
            "Best dev  acc: 86.21%, precision: 69.93%, recall: 37.85%, F1: 49.11% (epoch: 10 (1))\n",
            "Best test acc: 84.71%, precision: 67.98%, recall: 32.16%, F1: 43.67% (epoch: 10 (1))\n",
            "====================================================================================================\n",
            "Epoch 12 (sgd, lr=0.009947, lr decay=0.999990, amsgrad=False, l2=0.0e+00): \n",
            "[0/45 (0%) lr=0.009947] loss: 1.4069 (0.5924)\b\b\b\b\b\b\b\b\b\b\b\b\b\b\b\b\b\b\b\b\b\b\b\b\b\b\b\b\b\b\b\b\b\b\b\b\b\b\b\b\b\b\b\b\b                                             \b\b\b\b\b\b\b\b\b\b\b\b\b\b\b\b\b\b\b\b\b\b\b\b\b\b\b\b\b\b\b\b\b\b\b\b\b\b\b\b\b\b\b\b\btotal: 706 (15339), loss: 11.5420 (0.5312), time: 4.40s\n",
            "----------------------------------------------------------------------------------------------------\n",
            "Dev  acc: 86.80%, precision: 63.95%, recall: 43.31%, F1: 51.64%\n",
            "test acc: 85.41%, precision: 62.53%, recall: 36.83%, F1: 46.36%\n",
            "----------------------------------------------------------------------------------------------------\n",
            "Best dev  acc: 86.80%, precision: 63.95%, recall: 43.31%, F1: 51.64% (epoch: 12 (0))\n",
            "Best test acc: 85.41%, precision: 62.53%, recall: 36.83%, F1: 46.36% (epoch: 12 (0))\n",
            "====================================================================================================\n",
            "Epoch 13 (sgd, lr=0.009942, lr decay=0.999990, amsgrad=False, l2=0.0e+00): \n",
            "[0/45 (0%) lr=0.009942] loss: 1.5243 (0.6097)\b\b\b\b\b\b\b\b\b\b\b\b\b\b\b\b\b\b\b\b\b\b\b\b\b\b\b\b\b\b\b\b\b\b\b\b\b\b\b\b\b\b\b\b\b                                             \b\b\b\b\b\b\b\b\b\b\b\b\b\b\b\b\b\b\b\b\b\b\b\b\b\b\b\b\b\b\b\b\b\b\b\b\b\b\b\b\b\b\b\b\btotal: 706 (15339), loss: 10.5419 (0.4852), time: 4.42s\n",
            "----------------------------------------------------------------------------------------------------\n",
            "Dev  acc: 86.23%, precision: 71.69%, recall: 36.43%, F1: 48.31%\n",
            "----------------------------------------------------------------------------------------------------\n",
            "Best dev  acc: 86.80%, precision: 63.95%, recall: 43.31%, F1: 51.64% (epoch: 12 (1))\n",
            "Best test acc: 85.41%, precision: 62.53%, recall: 36.83%, F1: 46.36% (epoch: 12 (1))\n",
            "====================================================================================================\n",
            "Epoch 14 (sgd, lr=0.009937, lr decay=0.999990, amsgrad=False, l2=0.0e+00): \n",
            "[0/45 (0%) lr=0.009937] loss: 3.8174 (0.5090)\b\b\b\b\b\b\b\b\b\b\b\b\b\b\b\b\b\b\b\b\b\b\b\b\b\b\b\b\b\b\b\b\b\b\b\b\b\b\b\b\b\b\b\b\b                                             \b\b\b\b\b\b\b\b\b\b\b\b\b\b\b\b\b\b\b\b\b\b\b\b\b\b\b\b\b\b\b\b\b\b\b\b\b\b\b\b\b\b\b\b\btotal: 706 (15339), loss: 10.1914 (0.4691), time: 4.63s\n",
            "----------------------------------------------------------------------------------------------------\n",
            "Dev  acc: 86.79%, precision: 69.81%, recall: 39.69%, F1: 50.60%\n",
            "----------------------------------------------------------------------------------------------------\n",
            "Best dev  acc: 86.80%, precision: 63.95%, recall: 43.31%, F1: 51.64% (epoch: 12 (2))\n",
            "Best test acc: 85.41%, precision: 62.53%, recall: 36.83%, F1: 46.36% (epoch: 12 (2))\n",
            "====================================================================================================\n",
            "Epoch 15 (sgd, lr=0.009933, lr decay=0.999990, amsgrad=False, l2=0.0e+00): \n",
            "[0/45 (0%) lr=0.009933] loss: 10.1365 (0.4607)\b\b\b\b\b\b\b\b\b\b\b\b\b\b\b\b\b\b\b\b\b\b\b\b\b\b\b\b\b\b\b\b\b\b\b\b\b\b\b\b\b\b\b\b\b\b                                              \b\b\b\b\b\b\b\b\b\b\b\b\b\b\b\b\b\b\b\b\b\b\b\b\b\b\b\b\b\b\b\b\b\b\b\b\b\b\b\b\b\b\b\b\b\btotal: 706 (15339), loss: 9.5671 (0.4403), time: 5.43s\n",
            "----------------------------------------------------------------------------------------------------\n",
            "Dev  acc: 86.25%, precision: 61.23%, recall: 35.07%, F1: 44.59%\n",
            "----------------------------------------------------------------------------------------------------\n",
            "Best dev  acc: 86.80%, precision: 63.95%, recall: 43.31%, F1: 51.64% (epoch: 12 (3))\n",
            "Best test acc: 85.41%, precision: 62.53%, recall: 36.83%, F1: 46.36% (epoch: 12 (3))\n",
            "====================================================================================================\n",
            "Epoch 16 (sgd, lr=0.009928, lr decay=0.999990, amsgrad=False, l2=0.0e+00): \n",
            "[0/45 (0%) lr=0.009928] loss: 1.6043 (0.6582)\b\b\b\b\b\b\b\b\b\b\b\b\b\b\b\b\b\b\b\b\b\b\b\b\b\b\b\b\b\b\b\b\b\b\b\b\b\b\b\b\b\b\b\b\b                                             \b\b\b\b\b\b\b\b\b\b\b\b\b\b\b\b\b\b\b\b\b\b\b\b\b\b\b\b\b\b\b\b\b\b\b\b\b\b\b\b\b\b\b\b\btotal: 706 (15339), loss: 9.1889 (0.4229), time: 5.29s\n",
            "----------------------------------------------------------------------------------------------------\n",
            "Dev  acc: 86.83%, precision: 64.46%, recall: 41.42%, F1: 50.43%\n",
            "----------------------------------------------------------------------------------------------------\n",
            "Best dev  acc: 86.80%, precision: 63.95%, recall: 43.31%, F1: 51.64% (epoch: 12 (4))\n",
            "Best test acc: 85.41%, precision: 62.53%, recall: 36.83%, F1: 46.36% (epoch: 12 (4))\n",
            "====================================================================================================\n",
            "Epoch 17 (sgd, lr=0.009923, lr decay=0.999990, amsgrad=False, l2=0.0e+00): \n",
            "[0/45 (0%) lr=0.009923] loss: 2.3735 (1.0850)\b\b\b\b\b\b\b\b\b\b\b\b\b\b\b\b\b\b\b\b\b\b\b\b\b\b\b\b\b\b\b\b\b\b\b\b\b\b\b\b\b\b\b\b\b                                             \b\b\b\b\b\b\b\b\b\b\b\b\b\b\b\b\b\b\b\b\b\b\b\b\b\b\b\b\b\b\b\b\b\b\b\b\b\b\b\b\b\b\b\b\btotal: 706 (15339), loss: 8.9647 (0.4126), time: 5.16s\n",
            "----------------------------------------------------------------------------------------------------\n",
            "Dev  acc: 85.95%, precision: 55.05%, recall: 40.05%, F1: 46.37%\n",
            "----------------------------------------------------------------------------------------------------\n",
            "Best dev  acc: 86.80%, precision: 63.95%, recall: 43.31%, F1: 51.64% (epoch: 12 (5))\n",
            "Best test acc: 85.41%, precision: 62.53%, recall: 36.83%, F1: 46.36% (epoch: 12 (5))\n",
            "====================================================================================================\n",
            "2021-02-11 16:33:18,718 - NER - INFO - reset optimizer momentums\n",
            "Epoch 18 (sgd, lr=0.009918, lr decay=0.999990, amsgrad=False, l2=0.0e+00): \n",
            "[0/45 (0%) lr=0.009918] loss: 8.2942 (0.3749)\b\b\b\b\b\b\b\b\b\b\b\b\b\b\b\b\b\b\b\b\b\b\b\b\b\b\b\b\b\b\b\b\b\b\b\b\b\b\b\b\b\b\b\b\b                                             \b\b\b\b\b\b\b\b\b\b\b\b\b\b\b\b\b\b\b\b\b\b\b\b\b\b\b\b\b\b\b\b\b\b\b\b\b\b\b\b\b\b\b\b\btotal: 706 (15339), loss: 9.1079 (0.4192), time: 5.11s\n",
            "----------------------------------------------------------------------------------------------------\n",
            "Dev  acc: 87.41%, precision: 68.93%, recall: 43.78%, F1: 53.55%\n",
            "test acc: 86.32%, precision: 66.64%, recall: 40.67%, F1: 50.51%\n",
            "----------------------------------------------------------------------------------------------------\n",
            "Best dev  acc: 87.41%, precision: 68.93%, recall: 43.78%, F1: 53.55% (epoch: 18 (0))\n",
            "Best test acc: 86.32%, precision: 66.64%, recall: 40.67%, F1: 50.51% (epoch: 18 (0))\n",
            "====================================================================================================\n",
            "Epoch 19 (sgd, lr=0.009913, lr decay=0.999990, amsgrad=False, l2=0.0e+00): \n",
            "[0/45 (0%) lr=0.009913] loss: 2.3424 (0.3470)\b\b\b\b\b\b\b\b\b\b\b\b\b\b\b\b\b\b\b\b\b\b\b\b\b\b\b\b\b\b\b\b\b\b\b\b\b\b\b\b\b\b\b\b\b                                             \b\b\b\b\b\b\b\b\b\b\b\b\b\b\b\b\b\b\b\b\b\b\b\b\b\b\b\b\b\b\b\b\b\b\b\b\b\b\b\b\b\b\b\b\btotal: 706 (15339), loss: 8.8264 (0.4062), time: 5.28s\n",
            "----------------------------------------------------------------------------------------------------\n",
            "Dev  acc: 87.14%, precision: 67.43%, recall: 41.63%, F1: 51.48%\n",
            "----------------------------------------------------------------------------------------------------\n",
            "Best dev  acc: 87.41%, precision: 68.93%, recall: 43.78%, F1: 53.55% (epoch: 18 (1))\n",
            "Best test acc: 86.32%, precision: 66.64%, recall: 40.67%, F1: 50.51% (epoch: 18 (1))\n",
            "====================================================================================================\n",
            "Epoch 20 (sgd, lr=0.009908, lr decay=0.999990, amsgrad=False, l2=0.0e+00): \n",
            "[0/45 (0%) lr=0.009908] loss: 0.9355 (0.4158)\b\b\b\b\b\b\b\b\b\b\b\b\b\b\b\b\b\b\b\b\b\b\b\b\b\b\b\b\b\b\b\b\b\b\b\b\b\b\b\b\b\b\b\b\b                                             \b\b\b\b\b\b\b\b\b\b\b\b\b\b\b\b\b\b\b\b\b\b\b\b\b\b\b\b\b\b\b\b\b\b\b\b\b\b\b\b\b\b\b\b\btotal: 706 (15339), loss: 8.5327 (0.3927), time: 5.14s\n",
            "----------------------------------------------------------------------------------------------------\n",
            "Dev  acc: 86.83%, precision: 64.52%, recall: 39.90%, F1: 49.30%\n",
            "----------------------------------------------------------------------------------------------------\n",
            "Best dev  acc: 87.41%, precision: 68.93%, recall: 43.78%, F1: 53.55% (epoch: 18 (2))\n",
            "Best test acc: 86.32%, precision: 66.64%, recall: 40.67%, F1: 50.51% (epoch: 18 (2))\n",
            "====================================================================================================\n"
          ],
          "name": "stdout"
        }
      ]
    },
    {
      "cell_type": "code",
      "metadata": {
        "colab": {
          "base_uri": "https://localhost:8080/"
        },
        "id": "WBkfji486IKb",
        "outputId": "99c32b60-485d-4184-f833-3bff4b6f3fc5"
      },
      "source": [
        "! ./NeuroNLP2/experiments/scripts/run_deepbiaf.sh"
      ],
      "execution_count": null,
      "outputs": [
        {
          "output_type": "stream",
          "text": [
            "Namespace(amsgrad=False, batch_size=16, config='NeuroNLP2/experiments/data/Press/quaero-100-demi.json', cuda=False, dev='NeuroNLP2/experiments/data/Med/MEDLINEdev_layer1_ID.conll', embedding='sskip', embedding_dict='NeuroNLP2/experiments/data/Press/QUAERO_FrenchPress-w2v.vec.gz', grad_clip=0.0, learning_rate=0.01, loss_type='sentence', lr_decay=0.99999, model_path='models/ner/Medline-Press', num_epochs=20, optim='sgd', test='NeuroNLP2/experiments/data/Med/MEDLINEtest_layer1_ID.conll', train='NeuroNLP2/experiments/data/Med/MEDLINEtrain_layer1_ID.conll', unk_replace=0.0, warmup_steps=10, weight_decay=0.0)\n",
            "loading embedding: sskip from NeuroNLP2/experiments/data/Press/QUAERO_FrenchPress-w2v.vec.gz\n",
            "2021-02-11 16:27:39,420 - NER - INFO - Creating Alphabets\n",
            "2021-02-11 16:27:39,420 - Create Alphabets - INFO - Creating Alphabets: models/ner/Medline-Press/alphabets\n",
            "2021-02-11 16:27:39,450 - Create Alphabets - INFO - Total Vocabulary Size: 3783\n",
            "2021-02-11 16:27:39,451 - Create Alphabets - INFO - Total Singleton Size:  2910\n",
            "2021-02-11 16:27:39,451 - Create Alphabets - INFO - Total Vocabulary Size (w.o rare words): 2132\n",
            "2021-02-11 16:27:39,499 - Create Alphabets - INFO - Word Alphabet Size (Singleton): 4014 (1259)\n",
            "2021-02-11 16:27:39,499 - Create Alphabets - INFO - Character Alphabet Size: 96\n",
            "2021-02-11 16:27:39,499 - Create Alphabets - INFO - POS Alphabet Size: 257\n",
            "2021-02-11 16:27:39,499 - Create Alphabets - INFO - Chunk Alphabet Size: 262\n",
            "2021-02-11 16:27:39,500 - Create Alphabets - INFO - NER Alphabet Size: 22\n",
            "2021-02-11 16:27:39,500 - NER - INFO - Word Alphabet Size: 4014\n",
            "2021-02-11 16:27:39,500 - NER - INFO - Character Alphabet Size: 96\n",
            "2021-02-11 16:27:39,500 - NER - INFO - POS Alphabet Size: 257\n",
            "2021-02-11 16:27:39,500 - NER - INFO - Chunk Alphabet Size: 262\n",
            "2021-02-11 16:27:39,500 - NER - INFO - NER Alphabet Size: 22\n",
            "2021-02-11 16:27:39,500 - NER - INFO - Reading Data\n",
            "Reading data from NeuroNLP2/experiments/data/Med/MEDLINEtrain_layer1_ID.conll\n",
            "Total number of data: 834\n",
            "Reading data from NeuroNLP2/experiments/data/Med/MEDLINEdev_layer1_ID.conll\n",
            "Total number of data: 832\n",
            "Reading data from NeuroNLP2/experiments/data/Med/MEDLINEtest_layer1_ID.conll\n",
            "Total number of data: 835\n",
            "oov: 224\n",
            "2021-02-11 16:27:39,839 - NER - INFO - constructing network...\n",
            "/usr/local/lib/python3.6/dist-packages/torch/nn/modules/rnn.py:60: UserWarning: dropout option adds dropout after all but last recurrent layer, so non-zero dropout expects num_layers greater than 1, but got dropout=0.5 and num_layers=1\n",
            "  \"num_layers={}\".format(dropout, num_layers))\n",
            "2021-02-11 16:27:39,846 - NER - INFO - Network: LSTM-CNN, num_layer=1, hidden=128, act=elu\n",
            "2021-02-11 16:27:39,847 - NER - INFO - training: l2: 0.000000, (#training data: 834, batch: 16, unk replace: 0.00)\n",
            "2021-02-11 16:27:39,847 - NER - INFO - dropout(in, out, rnn): std(0.33, 0.50, [0.33, 0.5])\n",
            "# of Parameters: 710148\n",
            "Epoch 1 (sgd, lr=0.000000, lr decay=0.999990, amsgrad=False, l2=0.0e+00): \n",
            "[0/53 (0%) lr=0.001000] loss: 66.5928 (3.1155)\b\b\b\b\b\b\b\b\b\b\b\b\b\b\b\b\b\b\b\b\b\b\b\b\b\b\b\b\b\b\b\b\b\b\b\b\b\b\b\b\b\b\b\b\b\b                                              \b\b\b\b\b\b\b\b\b\b\b\b\b\b\b\b\b\b\b\b\b\b\b\b\b\b\b\b\b\b\b\b\b\b\b\b\b\b\b\b\b\b\b\b\b\btotal: 834 (11525), loss: 24.6472 (1.7836), time: 2.78s\n",
            "----------------------------------------------------------------------------------------------------\n",
            "Dev  acc: 68.70%, precision: 0.00%, recall: 0.00%, F1: 0.00%\n",
            "----------------------------------------------------------------------------------------------------\n",
            "Best dev  acc: 0.00%, precision: 0.00%, recall: 0.00%, F1: 0.00% (epoch: 0 (1))\n",
            "Best test acc: 0.00%, precision: 0.00%, recall: 0.00%, F1: 0.00% (epoch: 0 (1))\n",
            "====================================================================================================\n",
            "Epoch 2 (sgd, lr=0.009995, lr decay=0.999990, amsgrad=False, l2=0.0e+00): \n",
            "[0/53 (0%) lr=0.009995] loss: 32.6217 (1.4998)\b\b\b\b\b\b\b\b\b\b\b\b\b\b\b\b\b\b\b\b\b\b\b\b\b\b\b\b\b\b\b\b\b\b\b\b\b\b\b\b\b\b\b\b\b\b                                              \b\b\b\b\b\b\b\b\b\b\b\b\b\b\b\b\b\b\b\b\b\b\b\b\b\b\b\b\b\b\b\b\b\b\b\b\b\b\b\b\b\b\b\b\b\btotal: 834 (11525), loss: 18.3668 (1.3291), time: 3.32s\n",
            "----------------------------------------------------------------------------------------------------\n",
            "Dev  acc: 68.84%, precision: 9.97%, recall: 2.64%, F1: 4.18%\n",
            "test acc: 67.92%, precision: 11.05%, recall: 2.83%, F1: 4.50%\n",
            "----------------------------------------------------------------------------------------------------\n",
            "Best dev  acc: 68.84%, precision: 9.97%, recall: 2.64%, F1: 4.18% (epoch: 2 (0))\n",
            "Best test acc: 67.92%, precision: 11.05%, recall: 2.83%, F1: 4.50% (epoch: 2 (0))\n",
            "====================================================================================================\n",
            "Epoch 3 (sgd, lr=0.009990, lr decay=0.999990, amsgrad=False, l2=0.0e+00): \n",
            "[0/53 (0%) lr=0.009990] loss: 74.1521 (1.6663)\b\b\b\b\b\b\b\b\b\b\b\b\b\b\b\b\b\b\b\b\b\b\b\b\b\b\b\b\b\b\b\b\b\b\b\b\b\b\b\b\b\b\b\b\b\b                                              \b\b\b\b\b\b\b\b\b\b\b\b\b\b\b\b\b\b\b\b\b\b\b\b\b\b\b\b\b\b\b\b\b\b\b\b\b\b\b\b\b\b\b\b\b\btotal: 834 (11525), loss: 17.6885 (1.2800), time: 3.58s\n",
            "----------------------------------------------------------------------------------------------------\n",
            "Dev  acc: 69.09%, precision: 15.22%, recall: 1.25%, F1: 2.32%\n",
            "----------------------------------------------------------------------------------------------------\n",
            "Best dev  acc: 68.84%, precision: 9.97%, recall: 2.64%, F1: 4.18% (epoch: 2 (1))\n",
            "Best test acc: 67.92%, precision: 11.05%, recall: 2.83%, F1: 4.50% (epoch: 2 (1))\n",
            "====================================================================================================\n",
            "Epoch 4 (sgd, lr=0.009984, lr decay=0.999990, amsgrad=False, l2=0.0e+00): \n",
            "[0/53 (0%) lr=0.009984] loss: 41.3900 (1.2294)\b\b\b\b\b\b\b\b\b\b\b\b\b\b\b\b\b\b\b\b\b\b\b\b\b\b\b\b\b\b\b\b\b\b\b\b\b\b\b\b\b\b\b\b\b\b                                              \b\b\b\b\b\b\b\b\b\b\b\b\b\b\b\b\b\b\b\b\b\b\b\b\b\b\b\b\b\b\b\b\b\b\b\b\b\b\b\b\b\b\b\b\b\btotal: 834 (11525), loss: 16.9921 (1.2296), time: 3.41s\n",
            "----------------------------------------------------------------------------------------------------\n",
            "Dev  acc: 69.21%, precision: 16.43%, recall: 1.52%, F1: 2.79%\n",
            "----------------------------------------------------------------------------------------------------\n",
            "Best dev  acc: 68.84%, precision: 9.97%, recall: 2.64%, F1: 4.18% (epoch: 2 (2))\n",
            "Best test acc: 67.92%, precision: 11.05%, recall: 2.83%, F1: 4.50% (epoch: 2 (2))\n",
            "====================================================================================================\n",
            "Epoch 5 (sgd, lr=0.009978, lr decay=0.999990, amsgrad=False, l2=0.0e+00): \n",
            "[0/53 (0%) lr=0.009978] loss: 4.7928 (1.4747)\b\b\b\b\b\b\b\b\b\b\b\b\b\b\b\b\b\b\b\b\b\b\b\b\b\b\b\b\b\b\b\b\b\b\b\b\b\b\b\b\b\b\b\b\b                                             \b\b\b\b\b\b\b\b\b\b\b\b\b\b\b\b\b\b\b\b\b\b\b\b\b\b\b\b\b\b\b\b\b\b\b\b\b\b\b\b\b\b\b\b\btotal: 834 (11525), loss: 16.5216 (1.1956), time: 3.72s\n",
            "----------------------------------------------------------------------------------------------------\n",
            "Dev  acc: 69.27%, precision: 17.57%, recall: 1.75%, F1: 3.18%\n",
            "----------------------------------------------------------------------------------------------------\n",
            "Best dev  acc: 68.84%, precision: 9.97%, recall: 2.64%, F1: 4.18% (epoch: 2 (3))\n",
            "Best test acc: 67.92%, precision: 11.05%, recall: 2.83%, F1: 4.50% (epoch: 2 (3))\n",
            "====================================================================================================\n",
            "Epoch 6 (sgd, lr=0.009973, lr decay=0.999990, amsgrad=False, l2=0.0e+00): \n",
            "[0/53 (0%) lr=0.009972] loss: 8.5322 (1.1769)\b\b\b\b\b\b\b\b\b\b\b\b\b\b\b\b\b\b\b\b\b\b\b\b\b\b\b\b\b\b\b\b\b\b\b\b\b\b\b\b\b\b\b\b\b                                             \b\b\b\b\b\b\b\b\b\b\b\b\b\b\b\b\b\b\b\b\b\b\b\b\b\b\b\b\b\b\b\b\b\b\b\b\b\b\b\b\b\b\b\b\btotal: 834 (11525), loss: 16.3877 (1.1859), time: 4.01s\n",
            "----------------------------------------------------------------------------------------------------\n",
            "Dev  acc: 69.92%, precision: 26.34%, recall: 4.61%, F1: 7.85%\n",
            "test acc: 68.81%, precision: 23.25%, recall: 3.61%, F1: 6.25%\n",
            "----------------------------------------------------------------------------------------------------\n",
            "Best dev  acc: 69.92%, precision: 26.34%, recall: 4.61%, F1: 7.85% (epoch: 6 (0))\n",
            "Best test acc: 68.81%, precision: 23.25%, recall: 3.61%, F1: 6.25% (epoch: 6 (0))\n",
            "====================================================================================================\n",
            "Epoch 7 (sgd, lr=0.009967, lr decay=0.999990, amsgrad=False, l2=0.0e+00): \n",
            "[0/53 (0%) lr=0.009967] loss: 21.9822 (1.0284)\b\b\b\b\b\b\b\b\b\b\b\b\b\b\b\b\b\b\b\b\b\b\b\b\b\b\b\b\b\b\b\b\b\b\b\b\b\b\b\b\b\b\b\b\b\b                                              \b\b\b\b\b\b\b\b\b\b\b\b\b\b\b\b\b\b\b\b\b\b\b\b\b\b\b\b\b\b\b\b\b\b\b\b\b\b\b\b\b\b\b\b\b\btotal: 834 (11525), loss: 15.6327 (1.1313), time: 3.46s\n",
            "----------------------------------------------------------------------------------------------------\n",
            "Dev  acc: 68.84%, precision: 70.59%, recall: 0.54%, F1: 1.07%\n",
            "----------------------------------------------------------------------------------------------------\n",
            "Best dev  acc: 69.92%, precision: 26.34%, recall: 4.61%, F1: 7.85% (epoch: 6 (1))\n",
            "Best test acc: 68.81%, precision: 23.25%, recall: 3.61%, F1: 6.25% (epoch: 6 (1))\n",
            "====================================================================================================\n",
            "Epoch 8 (sgd, lr=0.009961, lr decay=0.999990, amsgrad=False, l2=0.0e+00): \n",
            "[0/53 (0%) lr=0.009961] loss: 11.1306 (1.3913)\b\b\b\b\b\b\b\b\b\b\b\b\b\b\b\b\b\b\b\b\b\b\b\b\b\b\b\b\b\b\b\b\b\b\b\b\b\b\b\b\b\b\b\b\b\b                                              \b\b\b\b\b\b\b\b\b\b\b\b\b\b\b\b\b\b\b\b\b\b\b\b\b\b\b\b\b\b\b\b\b\b\b\b\b\b\b\b\b\b\b\b\b\btotal: 834 (11525), loss: 15.9839 (1.1567), time: 3.68s\n",
            "----------------------------------------------------------------------------------------------------\n",
            "Dev  acc: 70.56%, precision: 22.05%, recall: 10.70%, F1: 14.41%\n",
            "test acc: 69.91%, precision: 20.14%, recall: 9.79%, F1: 13.18%\n",
            "----------------------------------------------------------------------------------------------------\n",
            "Best dev  acc: 70.56%, precision: 22.05%, recall: 10.70%, F1: 14.41% (epoch: 8 (0))\n",
            "Best test acc: 69.91%, precision: 20.14%, recall: 9.79%, F1: 13.18% (epoch: 8 (0))\n",
            "====================================================================================================\n",
            "Epoch 9 (sgd, lr=0.009955, lr decay=0.999990, amsgrad=False, l2=0.0e+00): \n",
            "[0/53 (0%) lr=0.009955] loss: 55.4492 (1.2460)\b\b\b\b\b\b\b\b\b\b\b\b\b\b\b\b\b\b\b\b\b\b\b\b\b\b\b\b\b\b\b\b\b\b\b\b\b\b\b\b\b\b\b\b\b\b                                              \b\b\b\b\b\b\b\b\b\b\b\b\b\b\b\b\b\b\b\b\b\b\b\b\b\b\b\b\b\b\b\b\b\b\b\b\b\b\b\b\b\b\b\b\b\btotal: 834 (11525), loss: 15.9368 (1.1533), time: 3.40s\n",
            "----------------------------------------------------------------------------------------------------\n",
            "Dev  acc: 70.97%, precision: 39.41%, recall: 7.84%, F1: 13.07%\n",
            "----------------------------------------------------------------------------------------------------\n",
            "Best dev  acc: 70.56%, precision: 22.05%, recall: 10.70%, F1: 14.41% (epoch: 8 (1))\n",
            "Best test acc: 69.91%, precision: 20.14%, recall: 9.79%, F1: 13.18% (epoch: 8 (1))\n",
            "====================================================================================================\n",
            "Epoch 10 (sgd, lr=0.009950, lr decay=0.999990, amsgrad=False, l2=0.0e+00): \n",
            "[0/53 (0%) lr=0.009950] loss: 24.5344 (0.4718)\b\b\b\b\b\b\b\b\b\b\b\b\b\b\b\b\b\b\b\b\b\b\b\b\b\b\b\b\b\b\b\b\b\b\b\b\b\b\b\b\b\b\b\b\b\b                                              \b\b\b\b\b\b\b\b\b\b\b\b\b\b\b\b\b\b\b\b\b\b\b\b\b\b\b\b\b\b\b\b\b\b\b\b\b\b\b\b\b\b\b\b\b\btotal: 834 (11525), loss: 15.2934 (1.1067), time: 3.53s\n",
            "----------------------------------------------------------------------------------------------------\n",
            "Dev  acc: 71.20%, precision: 20.75%, recall: 16.17%, F1: 18.17%\n",
            "test acc: 70.78%, precision: 19.07%, recall: 14.62%, F1: 16.55%\n",
            "----------------------------------------------------------------------------------------------------\n",
            "Best dev  acc: 71.20%, precision: 20.75%, recall: 16.17%, F1: 18.17% (epoch: 10 (0))\n",
            "Best test acc: 70.78%, precision: 19.07%, recall: 14.62%, F1: 16.55% (epoch: 10 (0))\n",
            "====================================================================================================\n",
            "Epoch 11 (sgd, lr=0.009944, lr decay=0.999990, amsgrad=False, l2=0.0e+00): \n",
            "[0/53 (0%) lr=0.009944] loss: 36.5895 (1.0868)\b\b\b\b\b\b\b\b\b\b\b\b\b\b\b\b\b\b\b\b\b\b\b\b\b\b\b\b\b\b\b\b\b\b\b\b\b\b\b\b\b\b\b\b\b\b                                              \b\b\b\b\b\b\b\b\b\b\b\b\b\b\b\b\b\b\b\b\b\b\b\b\b\b\b\b\b\b\b\b\b\b\b\b\b\b\b\b\b\b\b\b\b\btotal: 834 (11525), loss: 15.0785 (1.0911), time: 3.34s\n",
            "----------------------------------------------------------------------------------------------------\n",
            "Dev  acc: 72.36%, precision: 39.09%, recall: 12.67%, F1: 19.14%\n",
            "test acc: 71.01%, precision: 33.29%, recall: 10.05%, F1: 15.44%\n",
            "----------------------------------------------------------------------------------------------------\n",
            "Best dev  acc: 72.36%, precision: 39.09%, recall: 12.67%, F1: 19.14% (epoch: 11 (0))\n",
            "Best test acc: 71.01%, precision: 33.29%, recall: 10.05%, F1: 15.44% (epoch: 11 (0))\n",
            "====================================================================================================\n",
            "Epoch 12 (sgd, lr=0.009938, lr decay=0.999990, amsgrad=False, l2=0.0e+00): \n",
            "[0/53 (0%) lr=0.009938] loss: 11.5516 (1.5933)\b\b\b\b\b\b\b\b\b\b\b\b\b\b\b\b\b\b\b\b\b\b\b\b\b\b\b\b\b\b\b\b\b\b\b\b\b\b\b\b\b\b\b\b\b\b                                              \b\b\b\b\b\b\b\b\b\b\b\b\b\b\b\b\b\b\b\b\b\b\b\b\b\b\b\b\b\b\b\b\b\b\b\b\b\b\b\b\b\b\b\b\b\btotal: 834 (11525), loss: 15.1617 (1.0972), time: 3.56s\n",
            "----------------------------------------------------------------------------------------------------\n",
            "Dev  acc: 71.79%, precision: 35.34%, recall: 10.26%, F1: 15.90%\n",
            "----------------------------------------------------------------------------------------------------\n",
            "Best dev  acc: 72.36%, precision: 39.09%, recall: 12.67%, F1: 19.14% (epoch: 11 (1))\n",
            "Best test acc: 71.01%, precision: 33.29%, recall: 10.05%, F1: 15.44% (epoch: 11 (1))\n",
            "====================================================================================================\n",
            "Epoch 13 (sgd, lr=0.009933, lr decay=0.999990, amsgrad=False, l2=0.0e+00): \n",
            "[0/53 (0%) lr=0.009933] loss: 11.8610 (1.0543)\b\b\b\b\b\b\b\b\b\b\b\b\b\b\b\b\b\b\b\b\b\b\b\b\b\b\b\b\b\b\b\b\b\b\b\b\b\b\b\b\b\b\b\b\b\b                                              \b\b\b\b\b\b\b\b\b\b\b\b\b\b\b\b\b\b\b\b\b\b\b\b\b\b\b\b\b\b\b\b\b\b\b\b\b\b\b\b\b\b\b\b\b\btotal: 834 (11525), loss: 15.1019 (1.0928), time: 3.70s\n",
            "----------------------------------------------------------------------------------------------------\n",
            "Dev  acc: 71.62%, precision: 43.57%, recall: 11.37%, F1: 18.04%\n",
            "----------------------------------------------------------------------------------------------------\n",
            "Best dev  acc: 72.36%, precision: 39.09%, recall: 12.67%, F1: 19.14% (epoch: 11 (2))\n",
            "Best test acc: 71.01%, precision: 33.29%, recall: 10.05%, F1: 15.44% (epoch: 11 (2))\n",
            "====================================================================================================\n",
            "Epoch 14 (sgd, lr=0.009927, lr decay=0.999990, amsgrad=False, l2=0.0e+00): \n",
            "[0/53 (0%) lr=0.009927] loss: 22.5676 (1.0651)\b\b\b\b\b\b\b\b\b\b\b\b\b\b\b\b\b\b\b\b\b\b\b\b\b\b\b\b\b\b\b\b\b\b\b\b\b\b\b\b\b\b\b\b\b\b                                              \b\b\b\b\b\b\b\b\b\b\b\b\b\b\b\b\b\b\b\b\b\b\b\b\b\b\b\b\b\b\b\b\b\b\b\b\b\b\b\b\b\b\b\b\b\btotal: 834 (11525), loss: 14.4768 (1.0476), time: 3.50s\n",
            "----------------------------------------------------------------------------------------------------\n",
            "Dev  acc: 73.29%, precision: 28.21%, recall: 23.91%, F1: 25.88%\n",
            "test acc: 72.82%, precision: 26.73%, recall: 22.72%, F1: 24.56%\n",
            "----------------------------------------------------------------------------------------------------\n",
            "Best dev  acc: 73.29%, precision: 28.21%, recall: 23.91%, F1: 25.88% (epoch: 14 (0))\n",
            "Best test acc: 72.82%, precision: 26.73%, recall: 22.72%, F1: 24.56% (epoch: 14 (0))\n",
            "====================================================================================================\n",
            "Epoch 15 (sgd, lr=0.009922, lr decay=0.999990, amsgrad=False, l2=0.0e+00): \n",
            "[0/53 (0%) lr=0.009921] loss: 8.5076 (1.1634)\b\b\b\b\b\b\b\b\b\b\b\b\b\b\b\b\b\b\b\b\b\b\b\b\b\b\b\b\b\b\b\b\b\b\b\b\b\b\b\b\b\b\b\b\b                                             \b\b\b\b\b\b\b\b\b\b\b\b\b\b\b\b\b\b\b\b\b\b\b\b\b\b\b\b\b\b\b\b\b\b\b\b\b\b\b\b\b\b\b\b\btotal: 834 (11525), loss: 14.2035 (1.0278), time: 3.59s\n",
            "----------------------------------------------------------------------------------------------------\n",
            "Dev  acc: 74.05%, precision: 38.23%, recall: 18.54%, F1: 24.97%\n",
            "----------------------------------------------------------------------------------------------------\n",
            "Best dev  acc: 73.29%, precision: 28.21%, recall: 23.91%, F1: 25.88% (epoch: 14 (1))\n",
            "Best test acc: 72.82%, precision: 26.73%, recall: 22.72%, F1: 24.56% (epoch: 14 (1))\n",
            "====================================================================================================\n",
            "Epoch 16 (sgd, lr=0.009916, lr decay=0.999990, amsgrad=False, l2=0.0e+00): \n",
            "[0/53 (0%) lr=0.009916] loss: 33.5978 (0.9980)\b\b\b\b\b\b\b\b\b\b\b\b\b\b\b\b\b\b\b\b\b\b\b\b\b\b\b\b\b\b\b\b\b\b\b\b\b\b\b\b\b\b\b\b\b\b                                              \b\b\b\b\b\b\b\b\b\b\b\b\b\b\b\b\b\b\b\b\b\b\b\b\b\b\b\b\b\b\b\b\b\b\b\b\b\b\b\b\b\b\b\b\b\btotal: 834 (11525), loss: 13.9827 (1.0119), time: 3.70s\n",
            "----------------------------------------------------------------------------------------------------\n",
            "Dev  acc: 74.45%, precision: 38.17%, recall: 20.02%, F1: 26.26%\n",
            "test acc: 73.94%, precision: 34.77%, recall: 18.62%, F1: 24.26%\n",
            "----------------------------------------------------------------------------------------------------\n",
            "Best dev  acc: 74.45%, precision: 38.17%, recall: 20.02%, F1: 26.26% (epoch: 16 (0))\n",
            "Best test acc: 73.94%, precision: 34.77%, recall: 18.62%, F1: 24.26% (epoch: 16 (0))\n",
            "====================================================================================================\n",
            "Epoch 17 (sgd, lr=0.009910, lr decay=0.999990, amsgrad=False, l2=0.0e+00): \n",
            "[0/53 (0%) lr=0.009910] loss: 6.7486 (0.9556)\b\b\b\b\b\b\b\b\b\b\b\b\b\b\b\b\b\b\b\b\b\b\b\b\b\b\b\b\b\b\b\b\b\b\b\b\b\b\b\b\b\b\b\b\b                                             \b\b\b\b\b\b\b\b\b\b\b\b\b\b\b\b\b\b\b\b\b\b\b\b\b\b\b\b\b\b\b\b\b\b\b\b\b\b\b\b\b\b\b\b\btotal: 834 (11525), loss: 13.8386 (1.0014), time: 3.88s\n",
            "----------------------------------------------------------------------------------------------------\n",
            "Dev  acc: 72.45%, precision: 29.55%, recall: 25.53%, F1: 27.39%\n",
            "test acc: 72.09%, precision: 28.46%, recall: 24.89%, F1: 26.56%\n",
            "----------------------------------------------------------------------------------------------------\n",
            "Best dev  acc: 72.45%, precision: 29.55%, recall: 25.53%, F1: 27.39% (epoch: 17 (0))\n",
            "Best test acc: 72.09%, precision: 28.46%, recall: 24.89%, F1: 26.56% (epoch: 17 (0))\n",
            "====================================================================================================\n",
            "Epoch 18 (sgd, lr=0.009905, lr decay=0.999990, amsgrad=False, l2=0.0e+00): \n",
            "[0/53 (0%) lr=0.009904] loss: 11.9462 (0.2297)\b\b\b\b\b\b\b\b\b\b\b\b\b\b\b\b\b\b\b\b\b\b\b\b\b\b\b\b\b\b\b\b\b\b\b\b\b\b\b\b\b\b\b\b\b\b                                              \b\b\b\b\b\b\b\b\b\b\b\b\b\b\b\b\b\b\b\b\b\b\b\b\b\b\b\b\b\b\b\b\b\b\b\b\b\b\b\b\b\b\b\b\b\btotal: 834 (11525), loss: 13.9302 (1.0081), time: 3.52s\n",
            "----------------------------------------------------------------------------------------------------\n",
            "Dev  acc: 74.49%, precision: 35.10%, recall: 23.69%, F1: 28.29%\n",
            "test acc: 74.10%, precision: 31.90%, recall: 21.63%, F1: 25.78%\n",
            "----------------------------------------------------------------------------------------------------\n",
            "Best dev  acc: 74.49%, precision: 35.10%, recall: 23.69%, F1: 28.29% (epoch: 18 (0))\n",
            "Best test acc: 74.10%, precision: 31.90%, recall: 21.63%, F1: 25.78% (epoch: 18 (0))\n",
            "====================================================================================================\n",
            "Epoch 19 (sgd, lr=0.009899, lr decay=0.999990, amsgrad=False, l2=0.0e+00): \n",
            "[0/53 (0%) lr=0.009899] loss: 10.6200 (0.9336)\b\b\b\b\b\b\b\b\b\b\b\b\b\b\b\b\b\b\b\b\b\b\b\b\b\b\b\b\b\b\b\b\b\b\b\b\b\b\b\b\b\b\b\b\b\b                                              \b\b\b\b\b\b\b\b\b\b\b\b\b\b\b\b\b\b\b\b\b\b\b\b\b\b\b\b\b\b\b\b\b\b\b\b\b\b\b\b\b\b\b\b\b\btotal: 834 (11525), loss: 13.4753 (0.9751), time: 4.04s\n",
            "----------------------------------------------------------------------------------------------------\n",
            "Dev  acc: 71.74%, precision: 26.78%, recall: 25.88%, F1: 26.33%\n",
            "----------------------------------------------------------------------------------------------------\n",
            "Best dev  acc: 74.49%, precision: 35.10%, recall: 23.69%, F1: 28.29% (epoch: 18 (1))\n",
            "Best test acc: 74.10%, precision: 31.90%, recall: 21.63%, F1: 25.78% (epoch: 18 (1))\n",
            "====================================================================================================\n",
            "Epoch 20 (sgd, lr=0.009893, lr decay=0.999990, amsgrad=False, l2=0.0e+00): \n",
            "[0/53 (0%) lr=0.009893] loss: 35.1647 (1.0445)\b\b\b\b\b\b\b\b\b\b\b\b\b\b\b\b\b\b\b\b\b\b\b\b\b\b\b\b\b\b\b\b\b\b\b\b\b\b\b\b\b\b\b\b\b\b                                              \b\b\b\b\b\b\b\b\b\b\b\b\b\b\b\b\b\b\b\b\b\b\b\b\b\b\b\b\b\b\b\b\b\b\b\b\b\b\b\b\b\b\b\b\b\btotal: 834 (11525), loss: 13.5892 (0.9834), time: 3.21s\n",
            "----------------------------------------------------------------------------------------------------\n",
            "Dev  acc: 74.30%, precision: 47.18%, recall: 19.84%, F1: 27.93%\n",
            "----------------------------------------------------------------------------------------------------\n",
            "Best dev  acc: 74.49%, precision: 35.10%, recall: 23.69%, F1: 28.29% (epoch: 18 (2))\n",
            "Best test acc: 74.10%, precision: 31.90%, recall: 21.63%, F1: 25.78% (epoch: 18 (2))\n",
            "====================================================================================================\n"
          ],
          "name": "stdout"
        }
      ]
    },
    {
      "cell_type": "code",
      "metadata": {
        "colab": {
          "base_uri": "https://localhost:8080/"
        },
        "id": "kkcs1LVP6IqD",
        "outputId": "03447de5-1dba-4515-c333-b3d3aa4e69cd"
      },
      "source": [
        "! ./NeuroNLP2/experiments/scripts/run_analyze.sh"
      ],
      "execution_count": null,
      "outputs": [
        {
          "output_type": "stream",
          "text": [
            "Namespace(amsgrad=False, batch_size=16, config='NeuroNLP2/experiments/data/Press/quaero-100-demi.json', cuda=False, dev='NeuroNLP2/experiments/data/Med/EMEAdev_layer1_ID.conll', embedding='sskip', embedding_dict='NeuroNLP2/experiments/data/Press/QUAERO_FrenchPress-w2v.vec.gz', grad_clip=0.0, learning_rate=0.01, loss_type='sentence', lr_decay=0.99999, model_path='models/ner/EMEA-Press', num_epochs=20, optim='sgd', test='NeuroNLP2/experiments/data/Med/EMEAtest_layer1_ID.conll', train='NeuroNLP2/experiments/data/Med/EMEAtrain_layer1_ID.conll', unk_replace=0.0, warmup_steps=10, weight_decay=0.0)\n",
            "loading embedding: sskip from NeuroNLP2/experiments/data/Press/QUAERO_FrenchPress-w2v.vec.gz\n",
            "2021-02-11 16:33:48,115 - NER - INFO - Creating Alphabets\n",
            "2021-02-11 16:33:48,115 - Create Alphabets - INFO - Creating Alphabets: models/ner/EMEA-Press/alphabets\n",
            "2021-02-11 16:33:48,163 - Create Alphabets - INFO - Total Vocabulary Size: 2465\n",
            "2021-02-11 16:33:48,163 - Create Alphabets - INFO - Total Singleton Size:  1239\n",
            "2021-02-11 16:33:48,163 - Create Alphabets - INFO - Total Vocabulary Size (w.o rare words): 2015\n",
            "2021-02-11 16:33:48,251 - Create Alphabets - INFO - Word Alphabet Size (Singleton): 3093 (789)\n",
            "2021-02-11 16:33:48,251 - Create Alphabets - INFO - Character Alphabet Size: 127\n",
            "2021-02-11 16:33:48,251 - Create Alphabets - INFO - POS Alphabet Size: 10615\n",
            "2021-02-11 16:33:48,251 - Create Alphabets - INFO - Chunk Alphabet Size: 10614\n",
            "2021-02-11 16:33:48,251 - Create Alphabets - INFO - NER Alphabet Size: 22\n",
            "2021-02-11 16:33:48,251 - NER - INFO - Word Alphabet Size: 3093\n",
            "2021-02-11 16:33:48,251 - NER - INFO - Character Alphabet Size: 127\n",
            "2021-02-11 16:33:48,251 - NER - INFO - POS Alphabet Size: 10615\n",
            "2021-02-11 16:33:48,251 - NER - INFO - Chunk Alphabet Size: 10614\n",
            "2021-02-11 16:33:48,251 - NER - INFO - NER Alphabet Size: 22\n",
            "2021-02-11 16:33:48,251 - NER - INFO - Reading Data\n",
            "Reading data from NeuroNLP2/experiments/data/Med/EMEAtrain_layer1_ID.conll\n",
            "Total number of data: 706\n",
            "Reading data from NeuroNLP2/experiments/data/Med/EMEAdev_layer1_ID.conll\n",
            "Total number of data: 649\n",
            "Reading data from NeuroNLP2/experiments/data/Med/EMEAtest_layer1_ID.conll\n",
            "Total number of data: 578\n",
            "oov: 310\n",
            "2021-02-11 16:33:48,648 - NER - INFO - constructing network...\n",
            "/usr/local/lib/python3.6/dist-packages/torch/nn/modules/rnn.py:60: UserWarning: dropout option adds dropout after all but last recurrent layer, so non-zero dropout expects num_layers greater than 1, but got dropout=0.5 and num_layers=1\n",
            "  \"num_layers={}\".format(dropout, num_layers))\n",
            "2021-02-11 16:33:48,656 - NER - INFO - Network: LSTM-CNN, num_layer=1, hidden=128, act=elu\n",
            "2021-02-11 16:33:48,656 - NER - INFO - training: l2: 0.000000, (#training data: 706, batch: 16, unk replace: 0.00)\n",
            "2021-02-11 16:33:48,656 - NER - INFO - dropout(in, out, rnn): std(0.33, 0.50, [0.33, 0.5])\n",
            "# of Parameters: 618978\n",
            "Epoch 1 (sgd, lr=0.000000, lr decay=0.999990, amsgrad=False, l2=0.0e+00): \n",
            "[0/45 (0%) lr=0.001000] loss: 22.4564 (3.1244)\b\b\b\b\b\b\b\b\b\b\b\b\b\b\b\b\b\b\b\b\b\b\b\b\b\b\b\b\b\b\b\b\b\b\b\b\b\b\b\b\b\b\b\b\b\b                                              \b\b\b\b\b\b\b\b\b\b\b\b\b\b\b\b\b\b\b\b\b\b\b\b\b\b\b\b\b\b\b\b\b\b\b\b\b\b\b\b\b\b\b\b\b\btotal: 706 (15339), loss: 25.4250 (1.1702), time: 3.85s\n",
            "----------------------------------------------------------------------------------------------------\n",
            "Dev  acc: 80.03%, precision: 0.00%, recall: 0.00%, F1: 0.00%\n",
            "----------------------------------------------------------------------------------------------------\n",
            "Best dev  acc: 0.00%, precision: 0.00%, recall: 0.00%, F1: 0.00% (epoch: 0 (1))\n",
            "Best test acc: 0.00%, precision: 0.00%, recall: 0.00%, F1: 0.00% (epoch: 0 (1))\n",
            "====================================================================================================\n",
            "Epoch 2 (sgd, lr=0.009996, lr decay=0.999990, amsgrad=False, l2=0.0e+00): \n",
            "[0/45 (0%) lr=0.009996] loss: 40.0257 (0.9255)\b\b\b\b\b\b\b\b\b\b\b\b\b\b\b\b\b\b\b\b\b\b\b\b\b\b\b\b\b\b\b\b\b\b\b\b\b\b\b\b\b\b\b\b\b\b                                              \b\b\b\b\b\b\b\b\b\b\b\b\b\b\b\b\b\b\b\b\b\b\b\b\b\b\b\b\b\b\b\b\b\b\b\b\b\b\b\b\b\b\b\b\b\btotal: 706 (15339), loss: 20.6999 (0.9527), time: 3.79s\n",
            "----------------------------------------------------------------------------------------------------\n",
            "Dev  acc: 80.04%, precision: 8.33%, recall: 0.05%, F1: 0.10%\n",
            "test acc: 79.00%, precision: 18.18%, recall: 0.11%, F1: 0.22%\n",
            "----------------------------------------------------------------------------------------------------\n",
            "Best dev  acc: 80.04%, precision: 8.33%, recall: 0.05%, F1: 0.10% (epoch: 2 (0))\n",
            "Best test acc: 79.00%, precision: 18.18%, recall: 0.11%, F1: 0.22% (epoch: 2 (0))\n",
            "====================================================================================================\n",
            "Epoch 3 (sgd, lr=0.009991, lr decay=0.999990, amsgrad=False, l2=0.0e+00): \n",
            "[0/45 (0%) lr=0.009991] loss: 5.9785 (0.7777)\b\b\b\b\b\b\b\b\b\b\b\b\b\b\b\b\b\b\b\b\b\b\b\b\b\b\b\b\b\b\b\b\b\b\b\b\b\b\b\b\b\b\b\b\b                                             \b\b\b\b\b\b\b\b\b\b\b\b\b\b\b\b\b\b\b\b\b\b\b\b\b\b\b\b\b\b\b\b\b\b\b\b\b\b\b\b\b\b\b\b\btotal: 706 (15339), loss: 18.5332 (0.8530), time: 4.05s\n",
            "----------------------------------------------------------------------------------------------------\n",
            "Dev  acc: 81.23%, precision: 39.56%, recall: 9.45%, F1: 15.25%\n",
            "test acc: 80.34%, precision: 39.64%, recall: 9.55%, F1: 15.39%\n",
            "----------------------------------------------------------------------------------------------------\n",
            "Best dev  acc: 81.23%, precision: 39.56%, recall: 9.45%, F1: 15.25% (epoch: 3 (0))\n",
            "Best test acc: 80.34%, precision: 39.64%, recall: 9.55%, F1: 15.39% (epoch: 3 (0))\n",
            "====================================================================================================\n",
            "Epoch 4 (sgd, lr=0.009986, lr decay=0.999990, amsgrad=False, l2=0.0e+00): \n",
            "[0/45 (0%) lr=0.009986] loss: 10.9579 (0.6239)\b\b\b\b\b\b\b\b\b\b\b\b\b\b\b\b\b\b\b\b\b\b\b\b\b\b\b\b\b\b\b\b\b\b\b\b\b\b\b\b\b\b\b\b\b\b                                              \b\b\b\b\b\b\b\b\b\b\b\b\b\b\b\b\b\b\b\b\b\b\b\b\b\b\b\b\b\b\b\b\b\b\b\b\b\b\b\b\b\b\b\b\b\btotal: 706 (15339), loss: 16.6982 (0.7686), time: 4.40s\n",
            "----------------------------------------------------------------------------------------------------\n",
            "Dev  acc: 81.90%, precision: 37.33%, recall: 13.23%, F1: 19.53%\n",
            "test acc: 80.95%, precision: 39.70%, recall: 13.23%, F1: 19.84%\n",
            "----------------------------------------------------------------------------------------------------\n",
            "Best dev  acc: 81.90%, precision: 37.33%, recall: 13.23%, F1: 19.53% (epoch: 4 (0))\n",
            "Best test acc: 80.95%, precision: 39.70%, recall: 13.23%, F1: 19.84% (epoch: 4 (0))\n",
            "====================================================================================================\n",
            "Epoch 5 (sgd, lr=0.009981, lr decay=0.999990, amsgrad=False, l2=0.0e+00): \n",
            "[0/45 (0%) lr=0.009981] loss: 4.7272 (0.6303)\b\b\b\b\b\b\b\b\b\b\b\b\b\b\b\b\b\b\b\b\b\b\b\b\b\b\b\b\b\b\b\b\b\b\b\b\b\b\b\b\b\b\b\b\b                                             \b\b\b\b\b\b\b\b\b\b\b\b\b\b\b\b\b\b\b\b\b\b\b\b\b\b\b\b\b\b\b\b\b\b\b\b\b\b\b\b\b\b\b\b\btotal: 706 (15339), loss: 15.2600 (0.7024), time: 3.92s\n",
            "----------------------------------------------------------------------------------------------------\n",
            "Dev  acc: 81.95%, precision: 54.63%, recall: 11.76%, F1: 19.35%\n",
            "----------------------------------------------------------------------------------------------------\n",
            "Best dev  acc: 81.90%, precision: 37.33%, recall: 13.23%, F1: 19.53% (epoch: 4 (1))\n",
            "Best test acc: 80.95%, precision: 39.70%, recall: 13.23%, F1: 19.84% (epoch: 4 (1))\n",
            "====================================================================================================\n",
            "Epoch 6 (sgd, lr=0.009977, lr decay=0.999990, amsgrad=False, l2=0.0e+00): \n",
            "[0/45 (0%) lr=0.009976] loss: 10.1103 (0.8744)\b\b\b\b\b\b\b\b\b\b\b\b\b\b\b\b\b\b\b\b\b\b\b\b\b\b\b\b\b\b\b\b\b\b\b\b\b\b\b\b\b\b\b\b\b\b                                              \b\b\b\b\b\b\b\b\b\b\b\b\b\b\b\b\b\b\b\b\b\b\b\b\b\b\b\b\b\b\b\b\b\b\b\b\b\b\b\b\b\b\b\b\b\btotal: 706 (15339), loss: 14.2938 (0.6579), time: 3.85s\n",
            "----------------------------------------------------------------------------------------------------\n",
            "Dev  acc: 83.37%, precision: 49.26%, recall: 21.05%, F1: 29.50%\n",
            "test acc: 82.26%, precision: 46.84%, recall: 20.36%, F1: 28.39%\n",
            "----------------------------------------------------------------------------------------------------\n",
            "Best dev  acc: 83.37%, precision: 49.26%, recall: 21.05%, F1: 29.50% (epoch: 6 (0))\n",
            "Best test acc: 82.26%, precision: 46.84%, recall: 20.36%, F1: 28.39% (epoch: 6 (0))\n",
            "====================================================================================================\n",
            "Epoch 7 (sgd, lr=0.009972, lr decay=0.999990, amsgrad=False, l2=0.0e+00): \n",
            "[0/45 (0%) lr=0.009972] loss: 4.4278 (0.3633)\b\b\b\b\b\b\b\b\b\b\b\b\b\b\b\b\b\b\b\b\b\b\b\b\b\b\b\b\b\b\b\b\b\b\b\b\b\b\b\b\b\b\b\b\b                                             \b\b\b\b\b\b\b\b\b\b\b\b\b\b\b\b\b\b\b\b\b\b\b\b\b\b\b\b\b\b\b\b\b\b\b\b\b\b\b\b\b\b\b\b\btotal: 706 (15339), loss: 13.1748 (0.6064), time: 3.82s\n",
            "----------------------------------------------------------------------------------------------------\n",
            "Dev  acc: 83.32%, precision: 35.09%, recall: 22.73%, F1: 27.59%\n",
            "----------------------------------------------------------------------------------------------------\n",
            "Best dev  acc: 83.37%, precision: 49.26%, recall: 21.05%, F1: 29.50% (epoch: 6 (1))\n",
            "Best test acc: 82.26%, precision: 46.84%, recall: 20.36%, F1: 28.39% (epoch: 6 (1))\n",
            "====================================================================================================\n",
            "Epoch 8 (sgd, lr=0.009967, lr decay=0.999990, amsgrad=False, l2=0.0e+00): \n",
            "[0/45 (0%) lr=0.009967] loss: 30.0907 (0.6800)\b\b\b\b\b\b\b\b\b\b\b\b\b\b\b\b\b\b\b\b\b\b\b\b\b\b\b\b\b\b\b\b\b\b\b\b\b\b\b\b\b\b\b\b\b\b                                              \b\b\b\b\b\b\b\b\b\b\b\b\b\b\b\b\b\b\b\b\b\b\b\b\b\b\b\b\b\b\b\b\b\b\b\b\b\b\b\b\b\b\b\b\b\btotal: 706 (15339), loss: 12.7046 (0.5847), time: 4.14s\n",
            "----------------------------------------------------------------------------------------------------\n",
            "Dev  acc: 83.70%, precision: 63.14%, recall: 20.68%, F1: 31.16%\n",
            "test acc: 82.41%, precision: 67.82%, recall: 19.43%, F1: 30.20%\n",
            "----------------------------------------------------------------------------------------------------\n",
            "Best dev  acc: 83.70%, precision: 63.14%, recall: 20.68%, F1: 31.16% (epoch: 8 (0))\n",
            "Best test acc: 82.41%, precision: 67.82%, recall: 19.43%, F1: 30.20% (epoch: 8 (0))\n",
            "====================================================================================================\n",
            "Epoch 9 (sgd, lr=0.009962, lr decay=0.999990, amsgrad=False, l2=0.0e+00): \n",
            "[0/45 (0%) lr=0.009962] loss: 14.1977 (0.5283)\b\b\b\b\b\b\b\b\b\b\b\b\b\b\b\b\b\b\b\b\b\b\b\b\b\b\b\b\b\b\b\b\b\b\b\b\b\b\b\b\b\b\b\b\b\b                                              \b\b\b\b\b\b\b\b\b\b\b\b\b\b\b\b\b\b\b\b\b\b\b\b\b\b\b\b\b\b\b\b\b\b\b\b\b\b\b\b\b\b\b\b\b\btotal: 706 (15339), loss: 12.3804 (0.5698), time: 3.89s\n",
            "----------------------------------------------------------------------------------------------------\n",
            "Dev  acc: 84.49%, precision: 51.57%, recall: 25.83%, F1: 34.42%\n",
            "test acc: 83.30%, precision: 49.26%, recall: 23.60%, F1: 31.91%\n",
            "----------------------------------------------------------------------------------------------------\n",
            "Best dev  acc: 84.49%, precision: 51.57%, recall: 25.83%, F1: 34.42% (epoch: 9 (0))\n",
            "Best test acc: 83.30%, precision: 49.26%, recall: 23.60%, F1: 31.91% (epoch: 9 (0))\n",
            "====================================================================================================\n",
            "Epoch 10 (sgd, lr=0.009957, lr decay=0.999990, amsgrad=False, l2=0.0e+00): \n",
            "[0/45 (0%) lr=0.009957] loss: 8.5948 (0.5351)\b\b\b\b\b\b\b\b\b\b\b\b\b\b\b\b\b\b\b\b\b\b\b\b\b\b\b\b\b\b\b\b\b\b\b\b\b\b\b\b\b\b\b\b\b                                             \b\b\b\b\b\b\b\b\b\b\b\b\b\b\b\b\b\b\b\b\b\b\b\b\b\b\b\b\b\b\b\b\b\b\b\b\b\b\b\b\b\b\b\b\btotal: 706 (15339), loss: 11.7029 (0.5386), time: 4.92s\n",
            "----------------------------------------------------------------------------------------------------\n",
            "Dev  acc: 84.61%, precision: 49.35%, recall: 28.03%, F1: 35.75%\n",
            "test acc: 83.10%, precision: 45.59%, recall: 24.09%, F1: 31.53%\n",
            "----------------------------------------------------------------------------------------------------\n",
            "Best dev  acc: 84.61%, precision: 49.35%, recall: 28.03%, F1: 35.75% (epoch: 10 (0))\n",
            "Best test acc: 83.10%, precision: 45.59%, recall: 24.09%, F1: 31.53% (epoch: 10 (0))\n",
            "====================================================================================================\n",
            "Epoch 11 (sgd, lr=0.009952, lr decay=0.999990, amsgrad=False, l2=0.0e+00): \n",
            "[0/45 (0%) lr=0.009952] loss: 2.4414 (0.3551)\b\b\b\b\b\b\b\b\b\b\b\b\b\b\b\b\b\b\b\b\b\b\b\b\b\b\b\b\b\b\b\b\b\b\b\b\b\b\b\b\b\b\b\b\b                                             \b\b\b\b\b\b\b\b\b\b\b\b\b\b\b\b\b\b\b\b\b\b\b\b\b\b\b\b\b\b\b\b\b\b\b\b\b\b\b\b\b\b\b\b\btotal: 706 (15339), loss: 11.2778 (0.5191), time: 4.71s\n",
            "----------------------------------------------------------------------------------------------------\n",
            "Dev  acc: 84.86%, precision: 49.28%, recall: 28.82%, F1: 36.37%\n",
            "test acc: 83.52%, precision: 46.87%, recall: 27.55%, F1: 34.70%\n",
            "----------------------------------------------------------------------------------------------------\n",
            "Best dev  acc: 84.86%, precision: 49.28%, recall: 28.82%, F1: 36.37% (epoch: 11 (0))\n",
            "Best test acc: 83.52%, precision: 46.87%, recall: 27.55%, F1: 34.70% (epoch: 11 (0))\n",
            "====================================================================================================\n",
            "Epoch 12 (sgd, lr=0.009947, lr decay=0.999990, amsgrad=False, l2=0.0e+00): \n",
            "[0/45 (0%) lr=0.009947] loss: 3.7276 (0.4849)\b\b\b\b\b\b\b\b\b\b\b\b\b\b\b\b\b\b\b\b\b\b\b\b\b\b\b\b\b\b\b\b\b\b\b\b\b\b\b\b\b\b\b\b\b                                             \b\b\b\b\b\b\b\b\b\b\b\b\b\b\b\b\b\b\b\b\b\b\b\b\b\b\b\b\b\b\b\b\b\b\b\b\b\b\b\b\b\b\b\b\btotal: 706 (15339), loss: 10.9429 (0.5037), time: 4.60s\n",
            "----------------------------------------------------------------------------------------------------\n",
            "Dev  acc: 85.15%, precision: 63.10%, recall: 29.08%, F1: 39.81%\n",
            "test acc: 83.82%, precision: 63.22%, recall: 27.17%, F1: 38.00%\n",
            "----------------------------------------------------------------------------------------------------\n",
            "Best dev  acc: 85.15%, precision: 63.10%, recall: 29.08%, F1: 39.81% (epoch: 12 (0))\n",
            "Best test acc: 83.82%, precision: 63.22%, recall: 27.17%, F1: 38.00% (epoch: 12 (0))\n",
            "====================================================================================================\n",
            "Epoch 13 (sgd, lr=0.009942, lr decay=0.999990, amsgrad=False, l2=0.0e+00): \n",
            "[0/45 (0%) lr=0.009942] loss: 19.0395 (0.4333)\b\b\b\b\b\b\b\b\b\b\b\b\b\b\b\b\b\b\b\b\b\b\b\b\b\b\b\b\b\b\b\b\b\b\b\b\b\b\b\b\b\b\b\b\b\b                                              \b\b\b\b\b\b\b\b\b\b\b\b\b\b\b\b\b\b\b\b\b\b\b\b\b\b\b\b\b\b\b\b\b\b\b\b\b\b\b\b\b\b\b\b\b\btotal: 706 (15339), loss: 10.2277 (0.4707), time: 4.61s\n",
            "----------------------------------------------------------------------------------------------------\n",
            "Dev  acc: 85.08%, precision: 62.37%, recall: 28.19%, F1: 38.83%\n",
            "----------------------------------------------------------------------------------------------------\n",
            "Best dev  acc: 85.15%, precision: 63.10%, recall: 29.08%, F1: 39.81% (epoch: 12 (1))\n",
            "Best test acc: 83.82%, precision: 63.22%, recall: 27.17%, F1: 38.00% (epoch: 12 (1))\n",
            "====================================================================================================\n",
            "Epoch 14 (sgd, lr=0.009937, lr decay=0.999990, amsgrad=False, l2=0.0e+00): \n",
            "[0/45 (0%) lr=0.009937] loss: 21.0492 (0.4917)\b\b\b\b\b\b\b\b\b\b\b\b\b\b\b\b\b\b\b\b\b\b\b\b\b\b\b\b\b\b\b\b\b\b\b\b\b\b\b\b\b\b\b\b\b\b                                              \b\b\b\b\b\b\b\b\b\b\b\b\b\b\b\b\b\b\b\b\b\b\b\b\b\b\b\b\b\b\b\b\b\b\b\b\b\b\b\b\b\b\b\b\b\btotal: 706 (15339), loss: 9.7651 (0.4495), time: 5.05s\n",
            "----------------------------------------------------------------------------------------------------\n",
            "Dev  acc: 85.04%, precision: 46.19%, recall: 32.81%, F1: 38.37%\n",
            "----------------------------------------------------------------------------------------------------\n",
            "Best dev  acc: 85.15%, precision: 63.10%, recall: 29.08%, F1: 39.81% (epoch: 12 (2))\n",
            "Best test acc: 83.82%, precision: 63.22%, recall: 27.17%, F1: 38.00% (epoch: 12 (2))\n",
            "====================================================================================================\n",
            "Epoch 15 (sgd, lr=0.009933, lr decay=0.999990, amsgrad=False, l2=0.0e+00): \n",
            "[0/45 (0%) lr=0.009933] loss: 13.9546 (0.5086)\b\b\b\b\b\b\b\b\b\b\b\b\b\b\b\b\b\b\b\b\b\b\b\b\b\b\b\b\b\b\b\b\b\b\b\b\b\b\b\b\b\b\b\b\b\b                                              \b\b\b\b\b\b\b\b\b\b\b\b\b\b\b\b\b\b\b\b\b\b\b\b\b\b\b\b\b\b\b\b\b\b\b\b\b\b\b\b\b\b\b\b\b\btotal: 706 (15339), loss: 9.4965 (0.4371), time: 4.36s\n",
            "----------------------------------------------------------------------------------------------------\n",
            "Dev  acc: 85.76%, precision: 59.37%, recall: 34.75%, F1: 43.84%\n",
            "test acc: 84.26%, precision: 59.09%, recall: 30.68%, F1: 40.39%\n",
            "----------------------------------------------------------------------------------------------------\n",
            "Best dev  acc: 85.76%, precision: 59.37%, recall: 34.75%, F1: 43.84% (epoch: 15 (0))\n",
            "Best test acc: 84.26%, precision: 59.09%, recall: 30.68%, F1: 40.39% (epoch: 15 (0))\n",
            "====================================================================================================\n",
            "Epoch 16 (sgd, lr=0.009928, lr decay=0.999990, amsgrad=False, l2=0.0e+00): \n",
            "[0/45 (0%) lr=0.009928] loss: 9.0999 (0.3418)\b\b\b\b\b\b\b\b\b\b\b\b\b\b\b\b\b\b\b\b\b\b\b\b\b\b\b\b\b\b\b\b\b\b\b\b\b\b\b\b\b\b\b\b\b                                             \b\b\b\b\b\b\b\b\b\b\b\b\b\b\b\b\b\b\b\b\b\b\b\b\b\b\b\b\b\b\b\b\b\b\b\b\b\b\b\b\b\b\b\b\btotal: 706 (15339), loss: 9.8792 (0.4547), time: 4.39s\n",
            "----------------------------------------------------------------------------------------------------\n",
            "Dev  acc: 84.89%, precision: 52.79%, recall: 28.35%, F1: 36.89%\n",
            "----------------------------------------------------------------------------------------------------\n",
            "Best dev  acc: 85.76%, precision: 59.37%, recall: 34.75%, F1: 43.84% (epoch: 15 (1))\n",
            "Best test acc: 84.26%, precision: 59.09%, recall: 30.68%, F1: 40.39% (epoch: 15 (1))\n",
            "====================================================================================================\n",
            "Epoch 17 (sgd, lr=0.009923, lr decay=0.999990, amsgrad=False, l2=0.0e+00): \n",
            "[0/45 (0%) lr=0.009923] loss: 34.8855 (0.5505)\b\b\b\b\b\b\b\b\b\b\b\b\b\b\b\b\b\b\b\b\b\b\b\b\b\b\b\b\b\b\b\b\b\b\b\b\b\b\b\b\b\b\b\b\b\b                                              \b\b\b\b\b\b\b\b\b\b\b\b\b\b\b\b\b\b\b\b\b\b\b\b\b\b\b\b\b\b\b\b\b\b\b\b\b\b\b\b\b\b\b\b\b\btotal: 706 (15339), loss: 9.3020 (0.4281), time: 4.33s\n",
            "----------------------------------------------------------------------------------------------------\n",
            "Dev  acc: 84.93%, precision: 62.74%, recall: 27.40%, F1: 38.14%\n",
            "----------------------------------------------------------------------------------------------------\n",
            "Best dev  acc: 85.76%, precision: 59.37%, recall: 34.75%, F1: 43.84% (epoch: 15 (2))\n",
            "Best test acc: 84.26%, precision: 59.09%, recall: 30.68%, F1: 40.39% (epoch: 15 (2))\n",
            "====================================================================================================\n",
            "Epoch 18 (sgd, lr=0.009918, lr decay=0.999990, amsgrad=False, l2=0.0e+00): \n",
            "[0/45 (0%) lr=0.009918] loss: 15.5765 (0.5850)\b\b\b\b\b\b\b\b\b\b\b\b\b\b\b\b\b\b\b\b\b\b\b\b\b\b\b\b\b\b\b\b\b\b\b\b\b\b\b\b\b\b\b\b\b\b                                              \b\b\b\b\b\b\b\b\b\b\b\b\b\b\b\b\b\b\b\b\b\b\b\b\b\b\b\b\b\b\b\b\b\b\b\b\b\b\b\b\b\b\b\b\b\btotal: 706 (15339), loss: 9.1760 (0.4223), time: 4.89s\n",
            "----------------------------------------------------------------------------------------------------\n",
            "Dev  acc: 86.26%, precision: 58.99%, recall: 37.22%, F1: 45.64%\n",
            "test acc: 84.62%, precision: 54.91%, recall: 32.22%, F1: 40.61%\n",
            "----------------------------------------------------------------------------------------------------\n",
            "Best dev  acc: 86.26%, precision: 58.99%, recall: 37.22%, F1: 45.64% (epoch: 18 (0))\n",
            "Best test acc: 84.62%, precision: 54.91%, recall: 32.22%, F1: 40.61% (epoch: 18 (0))\n",
            "====================================================================================================\n",
            "Epoch 19 (sgd, lr=0.009913, lr decay=0.999990, amsgrad=False, l2=0.0e+00): \n",
            "[0/45 (0%) lr=0.009913] loss: 35.1628 (0.5005)\b\b\b\b\b\b\b\b\b\b\b\b\b\b\b\b\b\b\b\b\b\b\b\b\b\b\b\b\b\b\b\b\b\b\b\b\b\b\b\b\b\b\b\b\b\b                                              \b\b\b\b\b\b\b\b\b\b\b\b\b\b\b\b\b\b\b\b\b\b\b\b\b\b\b\b\b\b\b\b\b\b\b\b\b\b\b\b\b\b\b\b\b\btotal: 706 (15339), loss: 8.8271 (0.4063), time: 4.56s\n",
            "----------------------------------------------------------------------------------------------------\n",
            "Dev  acc: 86.27%, precision: 63.96%, recall: 35.96%, F1: 46.03%\n",
            "test acc: 84.75%, precision: 60.17%, recall: 31.34%, F1: 41.21%\n",
            "----------------------------------------------------------------------------------------------------\n",
            "Best dev  acc: 86.27%, precision: 63.96%, recall: 35.96%, F1: 46.03% (epoch: 19 (0))\n",
            "Best test acc: 84.75%, precision: 60.17%, recall: 31.34%, F1: 41.21% (epoch: 19 (0))\n",
            "====================================================================================================\n",
            "Epoch 20 (sgd, lr=0.009908, lr decay=0.999990, amsgrad=False, l2=0.0e+00): \n",
            "[0/45 (0%) lr=0.009908] loss: 13.6293 (0.3156)\b\b\b\b\b\b\b\b\b\b\b\b\b\b\b\b\b\b\b\b\b\b\b\b\b\b\b\b\b\b\b\b\b\b\b\b\b\b\b\b\b\b\b\b\b\b                                              \b\b\b\b\b\b\b\b\b\b\b\b\b\b\b\b\b\b\b\b\b\b\b\b\b\b\b\b\b\b\b\b\b\b\b\b\b\b\b\b\b\b\b\b\b\btotal: 706 (15339), loss: 8.4418 (0.3885), time: 5.10s\n",
            "----------------------------------------------------------------------------------------------------\n",
            "Dev  acc: 85.62%, precision: 58.98%, recall: 31.55%, F1: 41.11%\n",
            "----------------------------------------------------------------------------------------------------\n",
            "Best dev  acc: 86.27%, precision: 63.96%, recall: 35.96%, F1: 46.03% (epoch: 19 (1))\n",
            "Best test acc: 84.75%, precision: 60.17%, recall: 31.34%, F1: 41.21% (epoch: 19 (1))\n",
            "====================================================================================================\n"
          ],
          "name": "stdout"
        }
      ]
    },
    {
      "cell_type": "code",
      "metadata": {
        "colab": {
          "base_uri": "https://localhost:8080/"
        },
        "id": "obSreg964pBX",
        "outputId": "bb8b7cd7-a1dd-4702-b155-d78964dd3e82"
      },
      "source": [
        "! cp /content/models/ drive/MyDrive/ColabNotebooks/Data/MEDLINE/"
      ],
      "execution_count": null,
      "outputs": [
        {
          "output_type": "stream",
          "text": [
            "cp: -r not specified; omitting directory '/content/models/'\n"
          ],
          "name": "stdout"
        }
      ]
    },
    {
      "cell_type": "code",
      "metadata": {
        "id": "VUzMQFgvRoOw",
        "colab": {
          "base_uri": "https://localhost:8080/",
          "height": 191
        },
        "outputId": "a7a0e45d-fc90-4856-dff3-926669980ecc"
      },
      "source": [
        "#import torch\r\n",
        "#model = torch.load(\"drive/MyDrive/ColabNotebooks/Data/Text Mining/models Press/ner/ner-fra4_ID-w2v-conll17-half/model.pt\")\r\n",
        "#print(model)\r\n",
        "#model.values."
      ],
      "execution_count": null,
      "outputs": [
        {
          "output_type": "error",
          "ename": "AttributeError",
          "evalue": "ignored",
          "traceback": [
            "\u001b[0;31m---------------------------------------------------------------------------\u001b[0m",
            "\u001b[0;31mAttributeError\u001b[0m                            Traceback (most recent call last)",
            "\u001b[0;32m<ipython-input-19-a1390400b538>\u001b[0m in \u001b[0;36m<module>\u001b[0;34m()\u001b[0m\n\u001b[1;32m      3\u001b[0m \u001b[0mmodel\u001b[0m \u001b[0;34m=\u001b[0m \u001b[0mtorch\u001b[0m\u001b[0;34m.\u001b[0m\u001b[0mload\u001b[0m\u001b[0;34m(\u001b[0m\u001b[0;34m\"drive/MyDrive/ColabNotebooks/Data/Text Mining/models Press/ner/ner-fra4_ID-w2v-conll17-half/model.pt\"\u001b[0m\u001b[0;34m)\u001b[0m\u001b[0;34m\u001b[0m\u001b[0;34m\u001b[0m\u001b[0m\n\u001b[1;32m      4\u001b[0m \u001b[0;31m#print(model)\u001b[0m\u001b[0;34m\u001b[0m\u001b[0;34m\u001b[0m\u001b[0;34m\u001b[0m\u001b[0m\n\u001b[0;32m----> 5\u001b[0;31m \u001b[0mmodel\u001b[0m\u001b[0;34m.\u001b[0m\u001b[0mvalues\u001b[0m\u001b[0;34m.\u001b[0m\u001b[0mprint\u001b[0m\u001b[0;34m(\u001b[0m\u001b[0;34m)\u001b[0m\u001b[0;34m\u001b[0m\u001b[0;34m\u001b[0m\u001b[0m\n\u001b[0m",
            "\u001b[0;31mAttributeError\u001b[0m: 'builtin_function_or_method' object has no attribute 'print'"
          ]
        }
      ]
    },
    {
      "cell_type": "code",
      "metadata": {
        "id": "ZGzkZ1PrRps8"
      },
      "source": [
        ""
      ],
      "execution_count": null,
      "outputs": []
    }
  ]
}