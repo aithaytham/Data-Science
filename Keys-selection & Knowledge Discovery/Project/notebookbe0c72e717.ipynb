{
 "cells": [
  {
   "cell_type": "markdown",
   "metadata": {
    "_cell_guid": "79c7e3d0-c299-4dcb-8224-4455121ee9b0",
    "_uuid": "d629ff2d2480ee46fbb7e2d37f6b5fab8052498a",
    "collapsed": true
   },
   "source": [
    "# <center> Project Exam : Key Selection </center>#\n",
    "\n",
    "### Names : Panongbene Jean Mohamed Sawadogo \n",
    "### Names : Salma Damak\n",
    "### Names :  Haytham AIT ETTAJER\n",
    "### Github: https://github.com/Panongbene/PROJECT_DATA_SCIENCE/tree/master/Keys-selection"
   ]
  },
  {
   "cell_type": "code",
   "execution_count": 16,
   "metadata": {},
   "outputs": [],
   "source": [
    "import pandas as pd"
   ]
  },
  {
   "cell_type": "markdown",
   "metadata": {},
   "source": [
    "#### Extrat Parameters"
   ]
  },
  {
   "cell_type": "code",
   "execution_count": 17,
   "metadata": {},
   "outputs": [],
   "source": [
    "name_file = 'onto.owl'\n",
    "name_save_save = 'output_file.owl'\n",
    "name_file_rdf = 'refalign.rdf'\n",
    "name_big_ontology = 'ontBig.owl'\n",
    "threshold_long_text = 500"
   ]
  },
  {
   "cell_type": "markdown",
   "metadata": {},
   "source": [
    "#### Loads File"
   ]
  },
  {
   "cell_type": "code",
   "execution_count": 18,
   "metadata": {},
   "outputs": [],
   "source": [
    "with open(name_file, 'r' ,encoding=\"utf-8\") as f: \n",
    "    owl_file = f.readlines()\n",
    "        \n",
    "# Load refalign.rdf file\n",
    "with open(name_file_rdf, 'r', encoding=\"utf-8\") as f: \n",
    "    rdf_file = f.readlines()\n",
    "    \n",
    "# Load Big ontology\n",
    "with open(name_big_ontology, 'r', encoding=\"utf-8\") as f: \n",
    "    big_ontology = f.readlines()"
   ]
  },
  {
   "cell_type": "markdown",
   "metadata": {},
   "source": [
    "#### Extract The Same As Propertie in rdf file"
   ]
  },
  {
   "cell_type": "code",
   "execution_count": 19,
   "metadata": {},
   "outputs": [],
   "source": [
    "# Load refalign.rdf file\n",
    "with open(name_file_rdf, 'r') as f: \n",
    "    rdf_file = f.readlines()\n",
    "    \n",
    "# Extract the same as in ref file\n",
    "sameAs = dict()\n",
    "\n",
    "sizefile_rdf = len(rdf_file)\n",
    "j = 0\n",
    "while(j<sizefile_rdf):\n",
    "    if('<map>' in rdf_file[j]):\n",
    "        k = j+1\n",
    "        keys_values = ''\n",
    "        while('</map>' not in rdf_file[k]):\n",
    "            if('IIMBDATA' in rdf_file[k]):\n",
    "                begin_val = rdf_file[k].rfind('/',0,len(rdf_file[k])-3)+1\n",
    "                end_val = rdf_file[k].find('\"/>',begin_val)\n",
    "                value_balise = rdf_file[k][begin_val:end_val]\n",
    "                if(keys_values == ''):\n",
    "                    keys_values = value_balise\n",
    "                else:\n",
    "                    sameAs[value_balise] = keys_values\n",
    "            k = k+1\n",
    "        j = k\n",
    "    j = j+1 "
   ]
  },
  {
   "cell_type": "markdown",
   "metadata": {},
   "source": [
    "#### Big Ontology Extract Information"
   ]
  },
  {
   "cell_type": "code",
   "execution_count": 20,
   "metadata": {},
   "outputs": [],
   "source": [
    "with open(name_big_ontology, 'r') as f: \n",
    "    big_ontology = f.readlines()\n",
    "\n",
    "size_file = len(big_ontology)\n",
    "big_ontology_information = dict()\n",
    "\n",
    "j = 0\n",
    "while(j<size_file):\n",
    "    if('<owl:NamedIndividual' in big_ontology[j]):\n",
    "        begin_id = big_ontology[j].rfind('/',0,len(big_ontology[j])-3)+1\n",
    "        end_id = big_ontology[j].find('\"/>',begin_id)-2\n",
    "        value_id = big_ontology[j][begin_id:end_id]\n",
    "        big_ontology_information[value_id] = dict()\n",
    "        k = j+1\n",
    "        #print(big_ontology[k])\n",
    "        while('</owl:NamedIndividual' not in big_ontology[k]):\n",
    "            balise_file = ''\n",
    "            balise_name = ''\n",
    "            begin_balise = 0\n",
    "            end_balise = 0\n",
    "            #tamp_ = dict()\n",
    "            \n",
    "            if('<IIMBTBOX' in big_ontology[k]):\n",
    "                begin_balise = k\n",
    "                begin_label = big_ontology[k].find('<')+1\n",
    "                end_label = big_ontology[k].find(' ',begin_label)\n",
    "                balise_name = big_ontology[k][begin_label:end_label]\n",
    "                if(('</IIMBTBOX' in big_ontology[k]) or ('/>' in big_ontology[k])):\n",
    "                    balise_file+=big_ontology[k]\n",
    "                    name_balise = ''\n",
    "                    value_balise = ''\n",
    "                    end_balise = k+1\n",
    "                else:\n",
    "                    l = k\n",
    "                    while('</IIMBTBOX' not in big_ontology[l]):\n",
    "                        balise_file+=big_ontology[l]\n",
    "                        l= l+1\n",
    "                    k = l\n",
    "                    end_balise = l+1\n",
    "                    balise_file+=big_ontology[k]\n",
    "                #print(balise_file)\n",
    "                #print(\"name_balise == \",balise_name)\n",
    "                \n",
    "                begin_val = balise_file.find('>')+1\n",
    "                end_val = balise_file.find('</',begin_val)\n",
    "                value_balise = balise_file[begin_val:end_val]\n",
    "                \n",
    "                if(value_balise == ''):\n",
    "                    begin_val = balise_file.rfind('/',0,len(balise_file)-3)+1\n",
    "                    end_val = balise_file.find('\"/>',begin_val)\n",
    "                    value_balise = balise_file[begin_val:end_val]\n",
    "                \n",
    "                #tamp_[balise_name]= value_balise\n",
    "                big_ontology_information[value_id][value_balise] = balise_name\n",
    "                #if(len(value_balise)>threshold_long_text):\n",
    "                    #for kp in range(begin_balise, end_balise):\n",
    "                        #to_delete_long_text.append(owl_file[kp])\n",
    "                #print(\"value balise == \",value_balise)\n",
    "                #print('+++++++++++++++++++++++++++++++++++++++++++++++++++++++++++++++++++++++++++')\n",
    "            k = k+1\n",
    "        j = k\n",
    "    j+=1\n",
    "    #print(\"-----------------------------------------------------------------------------------------------------------------------------\")"
   ]
  },
  {
   "cell_type": "code",
   "execution_count": null,
   "metadata": {},
   "outputs": [],
   "source": []
  },
  {
   "cell_type": "markdown",
   "metadata": {},
   "source": [
    "#### Preprocessing File"
   ]
  },
  {
   "cell_type": "code",
   "execution_count": 21,
   "metadata": {},
   "outputs": [],
   "source": [
    "with open(name_file, 'r') as f: \n",
    "    owl_file = f.readlines()\n",
    "    \n",
    "size_file = len(owl_file)\n",
    "\n",
    "j = 0\n",
    "to_delete_long_text = list()\n",
    "while(j<size_file):\n",
    "    if('<owl:NamedIndividual' in owl_file[j]):\n",
    "        k = j+1\n",
    "        #print(owl_file[k])\n",
    "        while('</owl:NamedIndividual' not in owl_file[k]):\n",
    "            balise_file = ''\n",
    "            balise_name = ''\n",
    "            begin_balise = 0\n",
    "            end_balise = 0\n",
    "            \n",
    "            if('<IIMBTBOX' in owl_file[k]):\n",
    "                #-------------\n",
    "                begin_balise = k\n",
    "                begin_label = owl_file[k].find('<')+1\n",
    "                end_label = owl_file[k].find(' ',begin_label)\n",
    "                balise_name = owl_file[k][begin_label:end_label]\n",
    "                #--------------\n",
    "                if(('</IIMBTBOX' in owl_file[k]) or ('/>' in owl_file[k])):\n",
    "                    balise_file+=owl_file[k]\n",
    "                    name_balise = ''\n",
    "                    value_balise = ''\n",
    "                    end_balise = k+1\n",
    "                else:\n",
    "                    l = k\n",
    "                    while('</IIMBTBOX' not in owl_file[l]):\n",
    "                        balise_file+=owl_file[l]\n",
    "                        l= l+1\n",
    "                    k = l\n",
    "                    end_balise = l+1\n",
    "                    balise_file+=owl_file[k]\n",
    "                    #nb_line_balise+=1\n",
    "                #print(balise_file)\n",
    "                #print(nb_line_balise)\n",
    "                #print(\"name_balise == \",balise_name)\n",
    "                \n",
    "                begin_val = balise_file.find('>')+1\n",
    "                end_val = balise_file.find('</',begin_val)\n",
    "                value_balise = balise_file[begin_val:end_val]\n",
    "                \n",
    "                if(value_balise == ''):\n",
    "                    begin_val = balise_file.rfind('/',0,len(balise_file)-3)+1\n",
    "                    end_val = balise_file.find('\"/>',begin_val)\n",
    "                    value_balise = balise_file[begin_val:end_val]\n",
    "                    \n",
    "                if(len(value_balise)>threshold_long_text):\n",
    "                    for kp in range(begin_balise, end_balise):\n",
    "                        to_delete_long_text.append(owl_file[kp])\n",
    "            k = k+1\n",
    "        j = k\n",
    "    j+=1\n",
    "    #print(\"-----------------------------------------------------------------------------------------------------------------------------\")\n",
    "#---------------------------------------------------------------------------------------------------------------------------------------------\n",
    "# delete long text\n",
    "owl_file = [j for j in owl_file if j not in to_delete_long_text]\n",
    "#---------------------------------------------------------------------------------------------------------------------------------------------\n",
    "# delete sameAs\n",
    "for j in range(len(owl_file)):\n",
    "    for k in sameAs:\n",
    "        if(k in owl_file[j]):\n",
    "            owl_file[j] = owl_file[j].replace(k,sameAs[k])"
   ]
  },
  {
   "cell_type": "code",
   "execution_count": null,
   "metadata": {},
   "outputs": [],
   "source": []
  },
  {
   "cell_type": "code",
   "execution_count": null,
   "metadata": {},
   "outputs": [],
   "source": []
  },
  {
   "cell_type": "code",
   "execution_count": 22,
   "metadata": {},
   "outputs": [],
   "source": [
    "size_file = len(owl_file)\n",
    "to_delete_long_text = list()\n",
    "\n",
    "j = 0\n",
    "while(j<size_file):\n",
    "    if('<owl:NamedIndividual' in owl_file[j]):\n",
    "        begin_id = owl_file[j].rfind('/',0,len(owl_file[j])-3)+1\n",
    "        end_id = owl_file[j].find('\"/>',begin_id)-2\n",
    "        value_id = owl_file[j][begin_id:end_id]\n",
    "        #big_ontology_information[value_id] = dict()\n",
    "        k = j+1\n",
    "        #print(big_ontology[k])\n",
    "        while('</owl:NamedIndividual' not in owl_file[k]):\n",
    "            balise_file = ''\n",
    "            balise_name = ''\n",
    "            begin_balise = 0\n",
    "            end_balise = 0\n",
    "            #tamp_ = dict()\n",
    "            \n",
    "            if('<IIMBTBOX' in owl_file[k]):\n",
    "                #-------------\n",
    "                begin_balise = k\n",
    "                begin_label = owl_file[k].find('<')+1\n",
    "                end_label = owl_file[k].find(' ',begin_label)\n",
    "                balise_name = owl_file[k][begin_label:end_label]\n",
    "                #--------------\n",
    "                if(('</IIMBTBOX' in owl_file[k]) or ('/>' in owl_file[k])):\n",
    "                    balise_file+=owl_file[k]\n",
    "                    name_balise = ''\n",
    "                    value_balise = ''\n",
    "                    end_balise = k+1\n",
    "                else:\n",
    "                    l = k\n",
    "                    while('</IIMBTBOX' not in owl_file[l]):\n",
    "                        balise_file+=owl_file[l]\n",
    "                        l= l+1\n",
    "                    k = l\n",
    "                    end_balise = l+1\n",
    "                    balise_file+=owl_file[k]\n",
    "                #print(balise_file)\n",
    "                #print(\"name_balise == \",balise_name)\n",
    "                \n",
    "                begin_val = balise_file.find('>')+1\n",
    "                end_val = balise_file.find('</',begin_val)\n",
    "                value_balise = balise_file[begin_val:end_val]\n",
    "                \n",
    "                if(value_balise == ''):\n",
    "                    begin_val = balise_file.rfind('/',0,len(balise_file)-3)+1\n",
    "                    end_val = balise_file.find('\"/>',begin_val)\n",
    "                    value_balise = balise_file[begin_val:end_val]\n",
    "                \n",
    "                #tamp_[balise_name]= value_balise\n",
    "                if(value_balise not in big_ontology_information[value_id]):\n",
    "                    to_delete_long_text.append(balise_file)\n",
    "                else:\n",
    "                    if(balise_name not in big_ontology_information[value_id][value_balise]):\n",
    "                        to_delete_long_text.append(balise_file)\n",
    "                            \n",
    "                #big_ontology_information[value_id][value_balise] = balise_name\n",
    "                #if(len(value_balise)>threshold_long_text):\n",
    "                    #for kp in range(begin_balise, end_balise):\n",
    "                        #to_delete_long_text.append(owl_file[kp])\n",
    "                #print(\"value balise == \",value_balise)\n",
    "                #print('+++++++++++++++++++++++++++++++++++++++++++++++++++++++++++++++++++++++++++')\n",
    "            k = k+1\n",
    "        j = k\n",
    "    j+=1\n",
    "    #print(\"-----------------------------------------------------------------------------------------------------------------------------\")"
   ]
  },
  {
   "cell_type": "code",
   "execution_count": 23,
   "metadata": {},
   "outputs": [],
   "source": [
    "#---------------------------------------------------------------------------------------------------------------------------------------------\n",
    "# delete long text\n",
    "owl_file = [j for j in owl_file if j not in to_delete_long_text]\n",
    "#---------------------------------------------------------------------------------------------------------------------------------------------\n",
    "# save File\n",
    "with open(name_save_save, 'w+') as owl_file_save: \n",
    "    owl_file_save.write(''.join(owl_file))"
   ]
  },
  {
   "cell_type": "code",
   "execution_count": null,
   "metadata": {},
   "outputs": [],
   "source": []
  },
  {
   "cell_type": "code",
   "execution_count": 40,
   "metadata": {},
   "outputs": [
    {
     "name": "stderr",
     "output_type": "stream",
     "text": [
      "converting onto.owl to onto.nt (RDF/XML to N-Triples)\n"
     ]
    }
   ],
   "source": [
    "!java -jar rdf2rdf-1.0.1-2.3.1.jar onto.owl onto.nt"
   ]
  },
  {
   "cell_type": "code",
   "execution_count": 41,
   "metadata": {},
   "outputs": [
    {
     "name": "stderr",
     "output_type": "stream",
     "text": [
      "converting ontBig.owl to ontBig.nt (RDF/XML to N-Triples)\n"
     ]
    }
   ],
   "source": [
    "!java -jar rdf2rdf-1.0.1-2.3.1.jar ontBig.owl ontBig.nt"
   ]
  },
  {
   "cell_type": "code",
   "execution_count": 42,
   "metadata": {},
   "outputs": [
    {
     "name": "stderr",
     "output_type": "stream",
     "text": [
      "converting output_file.owl to output_file.nt (RDF/XML to N-Triples)\n"
     ]
    }
   ],
   "source": [
    "!java -jar rdf2rdf-1.0.1-2.3.1.jar output_file.owl output_file.nt"
   ]
  },
  {
   "cell_type": "code",
   "execution_count": 29,
   "metadata": {},
   "outputs": [
    {
     "name": "stdout",
     "output_type": "stream",
     "text": [
      "1649372 = 0.999879362573663\n",
      "477723 = 0.2896043880499839\n"
     ]
    },
    {
     "name": "stderr",
     "output_type": "stream",
     "text": [
      " INFO [main] (PPJoinController.java:135) - ID: ontBig1\n",
      "Var: ?x\n",
      "Prefixes: {rdf=http://www.w3.org/1999/02/22-rdf-syntax-ns#, owl=http://www.w3.org/2002/07/owl/#, imbt=http://oaei.ontologymatching.org/2010/IIMBTBOX/, rdfs=http://www.w3.org/2000/01/rdf-schema#}\n",
      "Endpoint: C:\\Users\\couco\\Downloads\\LIMES.0.6.RC4-2\\LIMES.0.6.RC4-2\\Release_Examples\\ontBig.nt\n",
      "Graph: null\n",
      "Restrictions: []\n",
      "Properties: [imbt:name]\n",
      "Functions: {imbt:name={imbt:name=}}\n",
      "Page size: 5000\n",
      "Type: n-triples\n",
      "\n",
      " INFO [main] (PPJoinController.java:136) - ID: output\n",
      "Var: ?y\n",
      "Prefixes: {rdf=http://www.w3.org/1999/02/22-rdf-syntax-ns#, owl=http://www.w3.org/2002/07/owl/#, imbt=http://oaei.ontologymatching.org/2010/IIMBTBOX/, rdfs=http://www.w3.org/2000/01/rdf-schema#}\n",
      "Endpoint: C:\\Users\\couco\\Downloads\\LIMES.0.6.RC4-2\\LIMES.0.6.RC4-2\\Release_Examples\\output_file.nt\n",
      "Graph: null\n",
      "Restrictions: []\n",
      "Properties: [imbt:name]\n",
      "Functions: {imbt:name={imbt:name=}}\n",
      "Page size: 5000\n",
      "Type: n-triples\n",
      "\n",
      " INFO [main] (PPJoinController.java:141) - Loading source data ...\n",
      " INFO [main] (HybridCache.java:232) - Checking for file C:\\Users\\couco\\Downloads\\PROJECT_DATA_SCIENCE-master\\PROJECT_DATA_SCIENCE-master\\Keys-selection\\cache\\-603319395.ser\n",
      " INFO [main] (HybridCache.java:235) - Found cached data. Loading data from file C:\\Users\\couco\\Downloads\\PROJECT_DATA_SCIENCE-master\\PROJECT_DATA_SCIENCE-master\\Keys-selection\\cache\\-603319395.ser\n",
      " INFO [main] (HybridCache.java:241) - Cached data loaded successfully from file C:\\Users\\couco\\Downloads\\PROJECT_DATA_SCIENCE-master\\PROJECT_DATA_SCIENCE-master\\Keys-selection\\cache\\-603319395.ser\n",
      " INFO [main] (HybridCache.java:242) - Size = 1363\n",
      " INFO [main] (PPJoinController.java:146) - Loading target data ...\n",
      " INFO [main] (HybridCache.java:232) - Checking for file C:\\Users\\couco\\Downloads\\PROJECT_DATA_SCIENCE-master\\PROJECT_DATA_SCIENCE-master\\Keys-selection\\cache\\1583074885.ser\n",
      " INFO [main] (HybridCache.java:235) - Found cached data. Loading data from file C:\\Users\\couco\\Downloads\\PROJECT_DATA_SCIENCE-master\\PROJECT_DATA_SCIENCE-master\\Keys-selection\\cache\\1583074885.ser\n",
      " INFO [main] (HybridCache.java:241) - Cached data loaded successfully from file C:\\Users\\couco\\Downloads\\PROJECT_DATA_SCIENCE-master\\PROJECT_DATA_SCIENCE-master\\Keys-selection\\cache\\1583074885.ser\n",
      " INFO [main] (HybridCache.java:242) - Size = 1233\n",
      " INFO [main] (PPJoinController.java:159) - Getting links ...\n",
      " INFO [main] (JaroMapper.java:25) - Running JaroMapper\n",
      " INFO [main] (PPJoinController.java:162) - Got links in 684ms.\n",
      " INFO [main] (SerializerFactory.java:22) - Getting serializer with name TTL\n",
      " INFO [main] (PPJoinController.java:172) - Using TtlSerializer to serialize\n",
      " INFO [main] (PPJoinController.java:191) - Returned 1289 links above acceptance threshold.\n",
      " INFO [main] (PPJoinController.java:192) - Returned 3912 links to review.\n",
      " INFO [main] (PPJoinController.java:199) - Mapping carried out in 1.262 seconds\n",
      " INFO [main] (PPJoinController.java:200) - Done.\n"
     ]
    }
   ],
   "source": [
    "!java -jar LIMES.jar Release_Examples/Team4_ConfigFile.xml"
   ]
  },
  {
   "cell_type": "code",
   "execution_count": 43,
   "metadata": {},
   "outputs": [
    {
     "name": "stdout",
     "output_type": "stream",
     "text": [
      "1-non keys: [[http://oaei.ontologymatching.org/2010/iimbtbox/gender], [http://oaei.ontologymatching.org/2010/iimbtbox/currency], [http://oaei.ontologymatching.org/2010/iimbtbox/filmed_in], [http://oaei.ontologymatching.org/2010/iimbtbox/religion], [http://oaei.ontologymatching.org/2010/iimbtbox/born_in], [http://oaei.ontologymatching.org/2010/iimbtbox/form_of_government], [http://www.w3.org/2000/01/rdf-schema#subclassof]]\n",
      "\n",
      "0-almost keys:[[http://oaei.ontologymatching.org/2010/iimbtbox/gender, http://www.w3.org/2000/01/rdf-schema#subclassof], [http://oaei.ontologymatching.org/2010/iimbtbox/name], [http://oaei.ontologymatching.org/2010/iimbtbox/religion, http://www.w3.org/2000/01/rdf-schema#subclassof], [http://oaei.ontologymatching.org/2010/iimbtbox/religion, http://oaei.ontologymatching.org/2010/iimbtbox/form_of_government], [http://oaei.ontologymatching.org/2010/iimbtbox/gender, http://oaei.ontologymatching.org/2010/iimbtbox/form_of_government], [http://oaei.ontologymatching.org/2010/iimbtbox/born_in, http://oaei.ontologymatching.org/2010/iimbtbox/form_of_government], [http://oaei.ontologymatching.org/2010/iimbtbox/amount], [http://oaei.ontologymatching.org/2010/iimbtbox/currency, http://oaei.ontologymatching.org/2010/iimbtbox/born_in], [http://oaei.ontologymatching.org/2010/iimbtbox/date_of_birth], [http://oaei.ontologymatching.org/2010/iimbtbox/filmed_in, http://www.w3.org/2000/01/rdf-schema#subclassof], [http://oaei.ontologymatching.org/2010/iimbtbox/gender, http://oaei.ontologymatching.org/2010/iimbtbox/filmed_in], [http://oaei.ontologymatching.org/2010/iimbtbox/acted_by], [http://oaei.ontologymatching.org/2010/iimbtbox/article], [http://oaei.ontologymatching.org/2010/iimbtbox/dialect], [http://oaei.ontologymatching.org/2010/iimbtbox/currency, http://oaei.ontologymatching.org/2010/iimbtbox/religion], [http://oaei.ontologymatching.org/2010/iimbtbox/estimated_budget_used], [http://oaei.ontologymatching.org/2010/iimbtbox/born_in, http://www.w3.org/2000/01/rdf-schema#subclassof], [http://oaei.ontologymatching.org/2010/iimbtbox/shot_in], [http://oaei.ontologymatching.org/2010/iimbtbox/filmed_in, http://oaei.ontologymatching.org/2010/iimbtbox/form_of_government], [http://oaei.ontologymatching.org/2010/iimbtbox/gender, http://oaei.ontologymatching.org/2010/iimbtbox/born_in], [http://oaei.ontologymatching.org/2010/iimbtbox/currency, http://oaei.ontologymatching.org/2010/iimbtbox/filmed_in], [http://oaei.ontologymatching.org/2010/iimbtbox/created_by], [http://oaei.ontologymatching.org/2010/iimbtbox/gender, http://oaei.ontologymatching.org/2010/iimbtbox/religion], [http://oaei.ontologymatching.org/2010/iimbtbox/form_of_government, http://www.w3.org/2000/01/rdf-schema#subclassof], [http://www.w3.org/2002/07/owl#inverseof], [http://oaei.ontologymatching.org/2010/iimbtbox/filmed_in, http://oaei.ontologymatching.org/2010/iimbtbox/born_in], [http://oaei.ontologymatching.org/2010/iimbtbox/currency, http://oaei.ontologymatching.org/2010/iimbtbox/gender], [http://oaei.ontologymatching.org/2010/iimbtbox/directed_by], [http://oaei.ontologymatching.org/2010/iimbtbox/calling_code], [http://oaei.ontologymatching.org/2010/iimbtbox/currency, http://www.w3.org/2000/01/rdf-schema#subclassof], [http://www.w3.org/2000/01/rdf-schema#subpropertyof], [http://oaei.ontologymatching.org/2010/iimbtbox/has_capital], [http://oaei.ontologymatching.org/2010/iimbtbox/filmed_in, http://oaei.ontologymatching.org/2010/iimbtbox/religion], [http://oaei.ontologymatching.org/2010/iimbtbox/religion, http://oaei.ontologymatching.org/2010/iimbtbox/born_in], [http://oaei.ontologymatching.org/2010/iimbtbox/starring_in], [http://oaei.ontologymatching.org/2010/iimbtbox/currency, http://oaei.ontologymatching.org/2010/iimbtbox/form_of_government], [http://oaei.ontologymatching.org/2010/iimbtbox/spoken_in], [http://oaei.ontologymatching.org/2010/iimbtbox/size]]\n"
     ]
    }
   ],
   "source": [
    "!java -jar SAKey.jar Projet_v1.nt 1"
   ]
  },
  {
   "cell_type": "code",
   "execution_count": null,
   "metadata": {},
   "outputs": [],
   "source": []
  },
  {
   "cell_type": "code",
   "execution_count": null,
   "metadata": {},
   "outputs": [],
   "source": [
    "# delete long text\n",
    "#owl_file = [j for j in owl_file if j not in to_delete_long_text]"
   ]
  },
  {
   "cell_type": "code",
   "execution_count": 84,
   "metadata": {},
   "outputs": [],
   "source": [
    "# save File\n",
    "#with open(name_save_save, 'w+') as owl_file_save: \n",
    "#    owl_file_save.write(''.join(owl_file))"
   ]
  }
 ],
 "metadata": {
  "kernelspec": {
   "display_name": "Python 3",
   "language": "python",
   "name": "python3"
  },
  "language_info": {
   "codemirror_mode": {
    "name": "ipython",
    "version": 3
   },
   "file_extension": ".py",
   "mimetype": "text/x-python",
   "name": "python",
   "nbconvert_exporter": "python",
   "pygments_lexer": "ipython3",
   "version": "3.8.3"
  }
 },
 "nbformat": 4,
 "nbformat_minor": 4
}
